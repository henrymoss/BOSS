{
 "cells": [
  {
   "cell_type": "markdown",
   "metadata": {},
   "source": [
    "### script to apply SSK BO over a locally constrained space\n",
    "### we demonstrate on the task of finding proteins with low minimal free-folding energy"
   ]
  },
  {
   "cell_type": "code",
   "execution_count": 1,
   "metadata": {},
   "outputs": [],
   "source": [
    "import numpy as np\n",
    "import emukit\n",
    "import re\n",
    "from subprocess import Popen, PIPE\n",
    "import subprocess\n",
    "import matplotlib.pyplot as plt\n",
    "from emukit.core.initial_designs import RandomDesign\n",
    "from emukit.core import ParameterSpace\n",
    "from emukit.core.optimization import RandomSearchAcquisitionOptimizer\n",
    "from emukit.bayesian_optimization.loops import BayesianOptimizationLoop\n",
    "from emukit.bayesian_optimization.acquisitions import ExpectedImprovement\n",
    "from emukit.core.loop import FixedIterationsStoppingCondition\n",
    "import warnings\n",
    "warnings.filterwarnings('ignore')"
   ]
  },
  {
   "cell_type": "code",
   "execution_count": 2,
   "metadata": {},
   "outputs": [],
   "source": [
    "#import our code\n",
    "from boss.code.parameters.protein_base_parameter import ProteinBaseParameter\n",
    "from boss.code.parameters.protein_codon_parameter import ProteinCodonParameter\n",
    "from boss.code.optimizers.ProteinBaseGeneticAlgorithmAcquisitionOptimizer import ProteinBaseGeneticProgrammingOptimizer\n",
    "from boss.code.optimizers.ProteinCodonGeneticAlgorithmAcquisitionOptimizer import ProteinCodonGeneticProgrammingOptimizer\n",
    "\n",
    "from boss.code.emukit_models.emukit_bow_model import BOW_model\n",
    "from boss.code.emukit_models.emukit_linear_model import linear_model\n",
    "from boss.code.emukit_models.emukit_ssk_model import SSK_model\n",
    "from boss.code.emukit_models.emukit_bio_features_model import BIO_Features_model"
   ]
  },
  {
   "cell_type": "markdown",
   "metadata": {},
   "source": [
    "# Define problem (objective and space)"
   ]
  },
  {
   "cell_type": "code",
   "execution_count": 3,
   "metadata": {},
   "outputs": [],
   "source": [
    "# define search space (a short protein to demo software)\n",
    "length = 30\n",
    "alphabet = [\"a\",\"c\",\"t\",\"g\"]\n",
    "space_codon = ParameterSpace([ProteinCodonParameter(\"string\",sequence=\"TIKENIFGVS\")])\n",
    "space_base = ParameterSpace([ProteinBaseParameter(\"string\",sequence=\"TIKENIFGVS\")])\n",
    "# protein consists of 10 amino acids (i.e 30 bases)\n",
    "\n",
    "# define objective function (for base representations)\n",
    "def objective_base(x):\n",
    "    # x in 2-d numpy array of strings x =np.array([[\"actgg\"],[\"gcttag\"]])\n",
    "    results = np.zeros((x.shape[0],1))\n",
    "    for i in range(x.shape[0]):\n",
    "        # call vienna RNA package\n",
    "        # install binaries from https://www.tbi.univie.ac.at/RNA/\n",
    "        p = subprocess.Popen('RNAfold', stdin=PIPE, stdout=PIPE) \n",
    "        string = \"\".join(x[i][0].split(\" \"))\n",
    "        ans=p.communicate(string.encode())\n",
    "        p.terminate()\n",
    "        # collect results from output stream\n",
    "        results[i][0] = float(str(ans[0]).split(\"(\")[-1].split(\")\")[0])\n",
    "    return results\n",
    "\n",
    "# define objective function (for codon representations)\n",
    "def objective_codon(x):\n",
    "   \t# x in 2-d numpy array of strings x =np.array([[\"'35 61 51 24 59 13 20 52 15 17'\"]])    results = np.zeros((x.shape[0],1))\n",
    "    results = np.zeros((x.shape[0],1))\n",
    "    for i in range(x.shape[0]):\n",
    "        # convert back to bases\n",
    "        string = x[i][0]\n",
    "        string = \"\".join([space_codon.parameters[0].codon_to_bases[c] for c in string.split(\" \")])\n",
    "        p = subprocess.Popen('RNAfold', stdin=PIPE, stdout=PIPE) \n",
    "        ans=p.communicate(string.encode())\n",
    "        p.terminate()\n",
    "        # collect results from output stream\n",
    "        results[i][0] = float(str(ans[0]).split(\"(\")[-1].split(\")\")[0])\n",
    "    return results"
   ]
  },
  {
   "cell_type": "code",
   "execution_count": 4,
   "metadata": {},
   "outputs": [
    {
     "name": "stdout",
     "output_type": "stream",
     "text": [
      "example base representation: acaataaaggaaaacatatttggcgtcagc\n",
      "example codon representation: 36 33 42 59 41 33 0 62 48 7\n"
     ]
    }
   ],
   "source": [
    "# base representation is a locally constrained space of length 30 and alphabet size 4\n",
    "# codon representation is a locally constrained space of length 10 and alphabet size 64\n",
    "\n",
    "# examine sample data\n",
    "print(\"example base representation: {}\".format(\"\".join(space_base.parameters[0].sample_uniform(1)[0][0].split(\" \"))))\n",
    "print(\"example codon representation: {}\".format(space_codon.parameters[0].sample_uniform(1)[0][0]))"
   ]
  },
  {
   "cell_type": "markdown",
   "metadata": {},
   "source": [
    "# Explain Methods"
   ]
  },
  {
   "cell_type": "code",
   "execution_count": 5,
   "metadata": {},
   "outputs": [],
   "source": [
    "# We now demonstrate how to run all the methods described in REDACTED\n",
    "#1) Linear GP applied to one-hot encoding of genes in their base representations) (i.e Taneka et al 2018)\n",
    "#2) RBF GP applied to BOW representation of genes  in their base representations\n",
    "#3) RBF GP applied to BOW representation of genes (+ some biologically-inspired features) in their \n",
    "#       codon representations (i.e Gonzalez et al. 2016)\n",
    "#4) Our SSK approach applied to genes in their base representations\n",
    "#5) Our SSK approach applied to genes in their codon representations\n",
    "#6) Our split SSK approach applied to genes in their base representations\n",
    "#7) Our split SSK approach applied to genes in their codon representations\n",
    "#8) A purely randomized gene design loop"
   ]
  },
  {
   "cell_type": "markdown",
   "metadata": {},
   "source": [
    "# Collect initial points"
   ]
  },
  {
   "cell_type": "code",
   "execution_count": 6,
   "metadata": {},
   "outputs": [
    {
     "ename": "FileNotFoundError",
     "evalue": "[Errno 2] No such file or directory: 'RNAfold': 'RNAfold'",
     "output_type": "error",
     "traceback": [
      "\u001b[0;31m---------------------------------------------------------------------------\u001b[0m",
      "\u001b[0;31mFileNotFoundError\u001b[0m                         Traceback (most recent call last)",
      "\u001b[0;32m<ipython-input-6-777d6953fb06>\u001b[0m in \u001b[0;36m<module>\u001b[0;34m\u001b[0m\n\u001b[1;32m      9\u001b[0m \u001b[0mrandom_design_base\u001b[0m \u001b[0;34m=\u001b[0m \u001b[0mRandomDesign\u001b[0m\u001b[0;34m(\u001b[0m\u001b[0mspace_base\u001b[0m\u001b[0;34m)\u001b[0m\u001b[0;34m\u001b[0m\u001b[0;34m\u001b[0m\u001b[0m\n\u001b[1;32m     10\u001b[0m \u001b[0mX_init_base\u001b[0m \u001b[0;34m=\u001b[0m \u001b[0mrandom_design_base\u001b[0m\u001b[0;34m.\u001b[0m\u001b[0mget_samples\u001b[0m\u001b[0;34m(\u001b[0m\u001b[0minitial_points_count\u001b[0m\u001b[0;34m)\u001b[0m\u001b[0;34m\u001b[0m\u001b[0;34m\u001b[0m\u001b[0m\n\u001b[0;32m---> 11\u001b[0;31m \u001b[0mY_init\u001b[0m \u001b[0;34m=\u001b[0m \u001b[0mobjective_base\u001b[0m\u001b[0;34m(\u001b[0m\u001b[0mX_init_base\u001b[0m\u001b[0;34m)\u001b[0m\u001b[0;34m\u001b[0m\u001b[0;34m\u001b[0m\u001b[0m\n\u001b[0m\u001b[1;32m     12\u001b[0m \u001b[0;34m\u001b[0m\u001b[0m\n",
      "\u001b[0;32m<ipython-input-3-e59fe89fd2ce>\u001b[0m in \u001b[0;36mobjective_base\u001b[0;34m(x)\u001b[0m\n\u001b[1;32m     13\u001b[0m         \u001b[0;31m# call vienna RNA package\u001b[0m\u001b[0;34m\u001b[0m\u001b[0;34m\u001b[0m\u001b[0;34m\u001b[0m\u001b[0m\n\u001b[1;32m     14\u001b[0m         \u001b[0;31m# install binaries from https://www.tbi.univie.ac.at/RNA/\u001b[0m\u001b[0;34m\u001b[0m\u001b[0;34m\u001b[0m\u001b[0;34m\u001b[0m\u001b[0m\n\u001b[0;32m---> 15\u001b[0;31m         \u001b[0mp\u001b[0m \u001b[0;34m=\u001b[0m \u001b[0msubprocess\u001b[0m\u001b[0;34m.\u001b[0m\u001b[0mPopen\u001b[0m\u001b[0;34m(\u001b[0m\u001b[0;34m'RNAfold'\u001b[0m\u001b[0;34m,\u001b[0m \u001b[0mstdin\u001b[0m\u001b[0;34m=\u001b[0m\u001b[0mPIPE\u001b[0m\u001b[0;34m,\u001b[0m \u001b[0mstdout\u001b[0m\u001b[0;34m=\u001b[0m\u001b[0mPIPE\u001b[0m\u001b[0;34m)\u001b[0m\u001b[0;34m\u001b[0m\u001b[0;34m\u001b[0m\u001b[0m\n\u001b[0m\u001b[1;32m     16\u001b[0m         \u001b[0mstring\u001b[0m \u001b[0;34m=\u001b[0m \u001b[0;34m\"\"\u001b[0m\u001b[0;34m.\u001b[0m\u001b[0mjoin\u001b[0m\u001b[0;34m(\u001b[0m\u001b[0mx\u001b[0m\u001b[0;34m[\u001b[0m\u001b[0mi\u001b[0m\u001b[0;34m]\u001b[0m\u001b[0;34m[\u001b[0m\u001b[0;36m0\u001b[0m\u001b[0;34m]\u001b[0m\u001b[0;34m.\u001b[0m\u001b[0msplit\u001b[0m\u001b[0;34m(\u001b[0m\u001b[0;34m\" \"\u001b[0m\u001b[0;34m)\u001b[0m\u001b[0;34m)\u001b[0m\u001b[0;34m\u001b[0m\u001b[0;34m\u001b[0m\u001b[0m\n\u001b[1;32m     17\u001b[0m         \u001b[0mans\u001b[0m\u001b[0;34m=\u001b[0m\u001b[0mp\u001b[0m\u001b[0;34m.\u001b[0m\u001b[0mcommunicate\u001b[0m\u001b[0;34m(\u001b[0m\u001b[0mstring\u001b[0m\u001b[0;34m.\u001b[0m\u001b[0mencode\u001b[0m\u001b[0;34m(\u001b[0m\u001b[0;34m)\u001b[0m\u001b[0;34m)\u001b[0m\u001b[0;34m\u001b[0m\u001b[0;34m\u001b[0m\u001b[0m\n",
      "\u001b[0;32m~/.pyenv/versions/3.7.3/lib/python3.7/subprocess.py\u001b[0m in \u001b[0;36m__init__\u001b[0;34m(self, args, bufsize, executable, stdin, stdout, stderr, preexec_fn, close_fds, shell, cwd, env, universal_newlines, startupinfo, creationflags, restore_signals, start_new_session, pass_fds, encoding, errors, text)\u001b[0m\n\u001b[1;32m    773\u001b[0m                                 \u001b[0mc2pread\u001b[0m\u001b[0;34m,\u001b[0m \u001b[0mc2pwrite\u001b[0m\u001b[0;34m,\u001b[0m\u001b[0;34m\u001b[0m\u001b[0;34m\u001b[0m\u001b[0m\n\u001b[1;32m    774\u001b[0m                                 \u001b[0merrread\u001b[0m\u001b[0;34m,\u001b[0m \u001b[0merrwrite\u001b[0m\u001b[0;34m,\u001b[0m\u001b[0;34m\u001b[0m\u001b[0;34m\u001b[0m\u001b[0m\n\u001b[0;32m--> 775\u001b[0;31m                                 restore_signals, start_new_session)\n\u001b[0m\u001b[1;32m    776\u001b[0m         \u001b[0;32mexcept\u001b[0m\u001b[0;34m:\u001b[0m\u001b[0;34m\u001b[0m\u001b[0;34m\u001b[0m\u001b[0m\n\u001b[1;32m    777\u001b[0m             \u001b[0;31m# Cleanup if the child failed starting.\u001b[0m\u001b[0;34m\u001b[0m\u001b[0;34m\u001b[0m\u001b[0;34m\u001b[0m\u001b[0m\n",
      "\u001b[0;32m~/.pyenv/versions/3.7.3/lib/python3.7/subprocess.py\u001b[0m in \u001b[0;36m_execute_child\u001b[0;34m(self, args, executable, preexec_fn, close_fds, pass_fds, cwd, env, startupinfo, creationflags, shell, p2cread, p2cwrite, c2pread, c2pwrite, errread, errwrite, restore_signals, start_new_session)\u001b[0m\n\u001b[1;32m   1520\u001b[0m                         \u001b[0;32mif\u001b[0m \u001b[0merrno_num\u001b[0m \u001b[0;34m==\u001b[0m \u001b[0merrno\u001b[0m\u001b[0;34m.\u001b[0m\u001b[0mENOENT\u001b[0m\u001b[0;34m:\u001b[0m\u001b[0;34m\u001b[0m\u001b[0;34m\u001b[0m\u001b[0m\n\u001b[1;32m   1521\u001b[0m                             \u001b[0merr_msg\u001b[0m \u001b[0;34m+=\u001b[0m \u001b[0;34m': '\u001b[0m \u001b[0;34m+\u001b[0m \u001b[0mrepr\u001b[0m\u001b[0;34m(\u001b[0m\u001b[0merr_filename\u001b[0m\u001b[0;34m)\u001b[0m\u001b[0;34m\u001b[0m\u001b[0;34m\u001b[0m\u001b[0m\n\u001b[0;32m-> 1522\u001b[0;31m                     \u001b[0;32mraise\u001b[0m \u001b[0mchild_exception_type\u001b[0m\u001b[0;34m(\u001b[0m\u001b[0merrno_num\u001b[0m\u001b[0;34m,\u001b[0m \u001b[0merr_msg\u001b[0m\u001b[0;34m,\u001b[0m \u001b[0merr_filename\u001b[0m\u001b[0;34m)\u001b[0m\u001b[0;34m\u001b[0m\u001b[0;34m\u001b[0m\u001b[0m\n\u001b[0m\u001b[1;32m   1523\u001b[0m                 \u001b[0;32mraise\u001b[0m \u001b[0mchild_exception_type\u001b[0m\u001b[0;34m(\u001b[0m\u001b[0merr_msg\u001b[0m\u001b[0;34m)\u001b[0m\u001b[0;34m\u001b[0m\u001b[0;34m\u001b[0m\u001b[0m\n\u001b[1;32m   1524\u001b[0m \u001b[0;34m\u001b[0m\u001b[0m\n",
      "\u001b[0;31mFileNotFoundError\u001b[0m: [Errno 2] No such file or directory: 'RNAfold': 'RNAfold'"
     ]
    }
   ],
   "source": [
    "# collect initial design and initialize the search space (for both representations)\n",
    "np.random.seed(42)\n",
    "initial_points_count = 5\n",
    "\n",
    "np.random.seed(42)\n",
    "random_design_codon = RandomDesign(space_codon)\n",
    "X_init_codon = random_design_codon.get_samples(initial_points_count)\n",
    "np.random.seed(42)\n",
    "random_design_base = RandomDesign(space_base)\n",
    "X_init_base = random_design_base.get_samples(initial_points_count)\n",
    "Y_init = objective_base(X_init_base)\n",
    "\n"
   ]
  },
  {
   "cell_type": "markdown",
   "metadata": {},
   "source": [
    "# 1) Linear GP "
   ]
  },
  {
   "cell_type": "code",
   "execution_count": null,
   "metadata": {},
   "outputs": [],
   "source": [
    "# build BO loop\n",
    "# fit BOW model\n",
    "model = linear_model(space_base,X_init_base,Y_init)\n",
    "# Load core elements for Bayesian optimization\n",
    "expected_improvement = ExpectedImprovement(model)\n",
    "# either use genetic algorithm or random search to optimize acqusition function\n",
    "optimizer =  ProteinBaseGeneticProgrammingOptimizer(space_base,dynamic=True,population_size=100,tournament_prob=0.5,p_crossover= 0.8, p_mutation=0.1)\n",
    "# optimizer = RandomSearchAcquisitionOptimizer(space,10000)\n",
    "bayesopt_loop_linear = BayesianOptimizationLoop(model = model, \n",
    "                                         space = space_base,\n",
    "                                         acquisition = expected_improvement,\n",
    "                                         acquisition_optimizer = optimizer)\n",
    "# add loop summary\n",
    "def summary(loop, loop_state):\n",
    "    print(\"Performing BO step {}\".format(loop.loop_state.iteration))\n",
    "bayesopt_loop_linear.iteration_end_event.append(summary)"
   ]
  },
  {
   "cell_type": "code",
   "execution_count": null,
   "metadata": {},
   "outputs": [],
   "source": [
    "np.random.seed(42)\n",
    "# run BO loop for 10 steps \n",
    "stopping_condition = FixedIterationsStoppingCondition(i_max = 10) \n",
    "bayesopt_loop_linear.run_loop(objective_base, stopping_condition)"
   ]
  },
  {
   "cell_type": "markdown",
   "metadata": {},
   "source": [
    "# 2) BOW of bases"
   ]
  },
  {
   "cell_type": "code",
   "execution_count": null,
   "metadata": {},
   "outputs": [],
   "source": [
    "# build BO loop\n",
    "# fit BOW model\n",
    "model = BOW_model(space_base,X_init_base,Y_init,max_feature_length=5)\n",
    "# Load core elements for Bayesian optimization\n",
    "expected_improvement = ExpectedImprovement(model)\n",
    "# either use genetic algorithm or random search to optimize acqusition function\n",
    "optimizer =  ProteinBaseGeneticProgrammingOptimizer(space_base,dynamic=True,population_size=100,tournament_prob=0.5,p_crossover= 0.8, p_mutation=0.1)\n",
    "# optimizer = RandomSearchAcquisitionOptimizer(space,10000)\n",
    "bayesopt_loop_BOW = BayesianOptimizationLoop(model = model, \n",
    "                                         space = space_base,\n",
    "                                         acquisition = expected_improvement,\n",
    "                                         acquisition_optimizer = optimizer)\n",
    "bayesopt_loop_BOW.iteration_end_event.append(summary)"
   ]
  },
  {
   "cell_type": "code",
   "execution_count": null,
   "metadata": {},
   "outputs": [],
   "source": [
    "np.random.seed(42)\n",
    "# run BO loop for 10 steps \n",
    "stopping_condition = FixedIterationsStoppingCondition(i_max = 10) \n",
    "bayesopt_loop_BOW.run_loop(objective_base, stopping_condition)"
   ]
  },
  {
   "cell_type": "markdown",
   "metadata": {},
   "source": [
    "# 3) BOW of codons + biollogically inspired features"
   ]
  },
  {
   "cell_type": "code",
   "execution_count": null,
   "metadata": {},
   "outputs": [],
   "source": [
    "# build BO loop\n",
    "# fit model\n",
    "model = BIO_Features_model(space_base,X_init_base,Y_init,max_feature_length=5)\n",
    "# Load core elements for Bayesian optimization\n",
    "expected_improvement = ExpectedImprovement(model)\n",
    "# either use genetic algorithm or random search to optimize acqusition function\n",
    "optimizer =  ProteinBaseGeneticProgrammingOptimizer(space_base,dynamic=True,population_size=100,tournament_prob=0.5,p_crossover= 0.8, p_mutation=0.1)\n",
    "# optimizer = RandomSearchAcquisitionOptimizer(space,10000)\n",
    "bayesopt_loop_BIO = BayesianOptimizationLoop(model = model, \n",
    "                                         space = space_base,\n",
    "                                         acquisition = expected_improvement,\n",
    "                                         acquisition_optimizer = optimizer)\n",
    "bayesopt_loop_BIO.iteration_end_event.append(summary)"
   ]
  },
  {
   "cell_type": "code",
   "execution_count": null,
   "metadata": {},
   "outputs": [],
   "source": [
    "# run BO loop for 10 steps \n",
    "stopping_condition = FixedIterationsStoppingCondition(i_max = 10) \n",
    "bayesopt_loop_BIO.run_loop(objective_base, stopping_condition)"
   ]
  },
  {
   "cell_type": "markdown",
   "metadata": {},
   "source": [
    "# 4) SSK applied to base representations"
   ]
  },
  {
   "cell_type": "code",
   "execution_count": null,
   "metadata": {},
   "outputs": [],
   "source": [
    "# build BO loop\n",
    "# fit SSK model\n",
    "model = SSK_model(space_base,X_init_base,Y_init,max_subsequence_length=5)\n",
    "# choose acquisition function \n",
    "expected_improvement = ExpectedImprovement(model)\n",
    "# either use genetic algorithm or random search to optimize acqusition function\n",
    "optimizer =  ProteinBaseGeneticProgrammingOptimizer(space_base,dynamic=True,population_size=100,tournament_prob=0.5,p_crossover= 0.8, p_mutation=0.1)\n",
    "# optimizer = RandomSearchAcquisitionOptimizer(space,10000)\n",
    "bayesopt_loop_SSK_base= BayesianOptimizationLoop(model = model, \n",
    "                                         space = space_base,\n",
    "                                         acquisition = expected_improvement,\n",
    "                                         acquisition_optimizer = optimizer)\n",
    "bayesopt_loop_SSK_base.iteration_end_event.append(summary)"
   ]
  },
  {
   "cell_type": "code",
   "execution_count": null,
   "metadata": {},
   "outputs": [],
   "source": [
    "np.random.seed(42)\n",
    "# run BO loop for 10 steps \n",
    "stopping_condition = FixedIterationsStoppingCondition(i_max = 10) \n",
    "bayesopt_loop_SSK_base.run_loop(objective_base, stopping_condition)"
   ]
  },
  {
   "cell_type": "markdown",
   "metadata": {},
   "source": [
    "# 5) SSK applied to codon representations"
   ]
  },
  {
   "cell_type": "code",
   "execution_count": null,
   "metadata": {},
   "outputs": [],
   "source": [
    "# build BO loop\n",
    "# fit SSK model\n",
    "model = SSK_model(space_codon,X_init_codon,Y_init,max_subsequence_length=5)\n",
    "# Load core elements for Bayesian optimization\n",
    "expected_improvement = ExpectedImprovement(model)\n",
    "# either use genetic algorithm  optimize acqusition function\n",
    "optimizer =  ProteinCodonGeneticProgrammingOptimizer(space_codon,dynamic=True,population_size=100,tournament_prob=0.5,p_crossover= 0.8, p_mutation=0.1)\n",
    "\n",
    "bayesopt_loop_SSK_codon= BayesianOptimizationLoop(model = model, \n",
    "                                         space = space_codon,\n",
    "                                         acquisition = expected_improvement,\n",
    "                                         acquisition_optimizer = optimizer)\n",
    "\n",
    "# run BO loop for 10 steps \n",
    "bayesopt_loop_SSK_codon.run_loop(objective_codon,10)"
   ]
  },
  {
   "cell_type": "code",
   "execution_count": null,
   "metadata": {},
   "outputs": [],
   "source": [
    "np.random.seed(42)\n",
    "# run BO loop for 10 steps \n",
    "stopping_condition = FixedIterationsStoppingCondition(i_max = 10) \n",
    "bayesopt_loop_SSK_codon.run_loop(objective_codon, stopping_condition)"
   ]
  },
  {
   "cell_type": "markdown",
   "metadata": {},
   "source": [
    "# 6) SSK applied to base representations split into 6\n"
   ]
  },
  {
   "cell_type": "code",
   "execution_count": null,
   "metadata": {},
   "outputs": [],
   "source": [
    "# build BO loop\n",
    "# fit SSK model\n",
    "model = SSK_model(space_base,X_init_base,Y_init,num_splits=6,max_subsequence_length=5)\n",
    "# Load core elements for Bayesian optimization\n",
    "expected_improvement = ExpectedImprovement(model)\n",
    "# either use genetic algorithm or random search to optimize acqusition function\n",
    "optimizer =  ProteinBaseGeneticProgrammingOptimizer(space_base,dynamic=True,population_size=100,tournament_prob=0.5,p_crossover= 0.8, p_mutation=0.1)\n",
    "# optimizer = RandomSearchAcquisitionOptimizer(space,10000)\n",
    "bayesopt_loop_SSK_base_split= BayesianOptimizationLoop(model = model, \n",
    "                                         space = space_base,\n",
    "                                         acquisition = expected_improvement,\n",
    "                                         acquisition_optimizer = optimizer)\n",
    "bayesopt_loop_SSK_base_split.iteration_end_event.append(summary)"
   ]
  },
  {
   "cell_type": "code",
   "execution_count": null,
   "metadata": {},
   "outputs": [],
   "source": [
    "np.random.seed(42)\n",
    "# run BO loop for 10 steps \n",
    "stopping_condition = FixedIterationsStoppingCondition(i_max = 10) \n",
    "bayesopt_loop_SSK_base_split.run_loop(objective_base, stopping_condition)"
   ]
  },
  {
   "cell_type": "markdown",
   "metadata": {},
   "source": [
    "# 7) SSK applied to codon representations split into 2\n"
   ]
  },
  {
   "cell_type": "code",
   "execution_count": null,
   "metadata": {},
   "outputs": [],
   "source": [
    "# build BO loop\n",
    "# fit SSK model\n",
    "model = SSK_model(space_codon,X_init_codon,Y_init,num_splits=2,max_subsequence_length=5)\n",
    "# Load core elements for Bayesian optimization\n",
    "expected_improvement = ExpectedImprovement(model)\n",
    "# either use genetic algorithm or random search to optimize acqusition function\n",
    "optimizer =  ProteinCodonGeneticProgrammingOptimizer(space_codon,dynamic=True,population_size=100,tournament_prob=0.5,p_crossover= 0.8, p_mutation=0.1)\n",
    "# optimizer = RandomSearchAcquisitionOptimizer(space,10000)\n",
    "bayesopt_loop_SSK_codon_split= BayesianOptimizationLoop(model = model, \n",
    "                                         space = space_codon,\n",
    "                                         acquisition = expected_improvement,\n",
    "                                         acquisition_optimizer = optimizer)\n",
    "bayesopt_loop_SSK_codon_split.iteration_end_event.append(summary)"
   ]
  },
  {
   "cell_type": "code",
   "execution_count": null,
   "metadata": {},
   "outputs": [],
   "source": [
    "np.random.seed(42)\n",
    "# run BO loop for 10 steps \n",
    "stopping_condition = FixedIterationsStoppingCondition(i_max = 10) \n",
    "bayesopt_loop_SSK_codon_split.run_loop(objective_codon, stopping_condition)"
   ]
  },
  {
   "cell_type": "markdown",
   "metadata": {},
   "source": [
    "# 8) Perform random search"
   ]
  },
  {
   "cell_type": "code",
   "execution_count": null,
   "metadata": {},
   "outputs": [],
   "source": [
    "np.random.seed(42)\n",
    "# also see performance of random search \n",
    "#(starting from the initialization used by the other approaches)\n",
    "Y_random=np.vstack([Y_init,objective_base(random_design_base.get_samples(10))])"
   ]
  },
  {
   "cell_type": "markdown",
   "metadata": {},
   "source": [
    "# plot results"
   ]
  },
  {
   "cell_type": "code",
   "execution_count": null,
   "metadata": {
    "scrolled": false
   },
   "outputs": [],
   "source": [
    "# recall that first 5 points are a random sample shared by all the methods\n",
    "# must run over multiple seeds to get an reliable idea of which algorithm is more efficient\n",
    "plt.plot(np.minimum.accumulate(bayesopt_loop_linear.loop_state.Y),label=\"Linear\")\n",
    "plt.plot(np.minimum.accumulate(bayesopt_loop_BOW.loop_state.Y),label=\"BOW bases\")\n",
    "plt.plot(np.minimum.accumulate(bayesopt_loop_BIO.loop_state.Y),label=\"Bio Features\")\n",
    "\n",
    "plt.plot(np.minimum.accumulate(bayesopt_loop_SSK_base.loop_state.Y),label=\"SSK bases\")\n",
    "plt.plot(np.minimum.accumulate(bayesopt_loop_SSK_codon.loop_state.Y),label=\"SSK codons\")\n",
    "plt.plot(np.minimum.accumulate(bayesopt_loop_SSK_base_split.loop_state.Y),label=\"Split SSK bases % 6\")\n",
    "plt.plot(np.minimum.accumulate(bayesopt_loop_SSK_codon_split.loop_state.Y),label=\"Split SSK codons % 2\")\n",
    "\n",
    "plt.plot(np.minimum.accumulate(Y_random),label=\"Random Search\")\n",
    "\n",
    "plt.ylabel('Current best')\n",
    "plt.xlabel('Iteration')\n",
    "plt.legend()"
   ]
  }
 ],
 "metadata": {
  "kernelspec": {
   "display_name": "boss",
   "language": "python",
   "name": "boss"
  },
  "language_info": {
   "codemirror_mode": {
    "name": "ipython",
    "version": 3
   },
   "file_extension": ".py",
   "mimetype": "text/x-python",
   "name": "python",
   "nbconvert_exporter": "python",
   "pygments_lexer": "ipython3",
   "version": "3.7.3"
  }
 },
 "nbformat": 4,
 "nbformat_minor": 4
}
