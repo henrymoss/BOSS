{
 "cells": [
  {
   "cell_type": "markdown",
   "metadata": {},
   "source": [
    "### script to apply SSK BO over a locally constrained space\n",
    "### we demonstrate on the task of finding proteins with low minimal free-folding energy"
   ]
  },
  {
   "cell_type": "code",
   "execution_count": 1,
   "metadata": {},
   "outputs": [],
   "source": [
    "import numpy as np\n",
    "import emukit\n",
    "import re\n",
    "from subprocess import Popen, PIPE\n",
    "import subprocess\n",
    "import matplotlib.pyplot as plt\n",
    "from emukit.core.initial_designs import RandomDesign\n",
    "from emukit.core import ParameterSpace\n",
    "from emukit.core.optimization import RandomSearchAcquisitionOptimizer\n",
    "from emukit.bayesian_optimization.loops import BayesianOptimizationLoop\n",
    "from emukit.bayesian_optimization.acquisitions import ExpectedImprovement\n",
    "from emukit.core.loop import FixedIterationsStoppingCondition\n",
    "import warnings\n",
    "warnings.filterwarnings('ignore')"
   ]
  },
  {
   "cell_type": "code",
   "execution_count": 2,
   "metadata": {},
   "outputs": [],
   "source": [
    "#import our code\n",
    "from boss.code.parameters.protein_base_parameter import ProteinBaseParameter\n",
    "from boss.code.parameters.protein_codon_parameter import ProteinCodonParameter\n",
    "from boss.code.optimizers.ProteinBaseGeneticAlgorithmAcquisitionOptimizer import ProteinBaseGeneticProgrammingOptimizer\n",
    "from boss.code.optimizers.ProteinCodonGeneticAlgorithmAcquisitionOptimizer import ProteinCodonGeneticProgrammingOptimizer\n",
    "\n",
    "from boss.code.emukit_models.emukit_bow_model import BOW_model\n",
    "from boss.code.emukit_models.emukit_linear_model import linear_model\n",
    "from boss.code.emukit_models.emukit_ssk_model import SSK_model\n",
    "from boss.code.emukit_models.emukit_bio_features_model import BIO_Features_model"
   ]
  },
  {
   "cell_type": "markdown",
   "metadata": {},
   "source": [
    "# Define problem (objective and space)"
   ]
  },
  {
   "cell_type": "code",
   "execution_count": 3,
   "metadata": {},
   "outputs": [],
   "source": [
    "# define search space (a short protein to demo software)\n",
    "length = 30\n",
    "alphabet = [\"a\",\"c\",\"t\",\"g\"]\n",
    "space_codon = ParameterSpace([ProteinCodonParameter(\"string\",sequence=\"TIKENIFGVS\")])\n",
    "space_base = ParameterSpace([ProteinBaseParameter(\"string\",sequence=\"TIKENIFGVS\")])\n",
    "# protein consists of 10 amino acids (i.e 30 bases)\n",
    "\n",
    "# define objective function (for base representations)\n",
    "def objective_base(x):\n",
    "    # x in 2-d numpy array of strings x =np.array([[\"actgg\"],[\"gcttag\"]])\n",
    "    results = np.zeros((x.shape[0],1))\n",
    "    for i in range(x.shape[0]):\n",
    "        # call vienna RNA package\n",
    "        # install binaries from https://www.tbi.univie.ac.at/RNA/\n",
    "        p = subprocess.Popen('RNAfold', stdin=PIPE, stdout=PIPE) \n",
    "        string = \"\".join(x[i][0].split(\" \"))\n",
    "        ans=p.communicate(string.encode())\n",
    "        p.terminate()\n",
    "        # collect results from output stream\n",
    "        results[i][0] = float(str(ans[0]).split(\"(\")[-1].split(\")\")[0])\n",
    "    return results\n",
    "\n",
    "# define objective function (for codon representations)\n",
    "def objective_codon(x):\n",
    "   \t# x in 2-d numpy array of strings x =np.array([[\"'35 61 51 24 59 13 20 52 15 17'\"]])    results = np.zeros((x.shape[0],1))\n",
    "    results = np.zeros((x.shape[0],1))\n",
    "    for i in range(x.shape[0]):\n",
    "        # convert back to bases\n",
    "        string = x[i][0]\n",
    "        string = \"\".join([space_codon.parameters[0].codon_to_bases[c] for c in string.split(\" \")])\n",
    "        p = subprocess.Popen('RNAfold', stdin=PIPE, stdout=PIPE) \n",
    "        ans=p.communicate(string.encode())\n",
    "        p.terminate()\n",
    "        # collect results from output stream\n",
    "        results[i][0] = float(str(ans[0]).split(\"(\")[-1].split(\")\")[0])\n",
    "    return results"
   ]
  },
  {
   "cell_type": "code",
   "execution_count": 4,
   "metadata": {},
   "outputs": [
    {
     "name": "stdout",
     "output_type": "stream",
     "text": [
      "example base representation: accatcaaagaaaacatattcggcgtgtct\n",
      "example codon representation: 37 32 43 58 41 33 0 62 50 44\n"
     ]
    }
   ],
   "source": [
    "# base representation is a locally constrained space of length 30 and alphabet size 4\n",
    "# codon representation is a locally constrained space of length 10 and alphabet size 64\n",
    "\n",
    "# examine sample data\n",
    "print(\"example base representation: {}\".format(\"\".join(space_base.parameters[0].sample_uniform(1)[0][0].split(\" \"))))\n",
    "print(\"example codon representation: {}\".format(space_codon.parameters[0].sample_uniform(1)[0][0]))"
   ]
  },
  {
   "cell_type": "markdown",
   "metadata": {},
   "source": [
    "# Explain Methods"
   ]
  },
  {
   "cell_type": "code",
   "execution_count": 5,
   "metadata": {},
   "outputs": [],
   "source": [
    "# We now demonstrate how to run all the methods described in Moss et al. 2020\n",
    "#1) Linear GP applied to one-hot encoding of genes in their base representations) (i.e Taneka et al 2018)\n",
    "#2) RBF GP applied to BOW representation of genes  in their base representations\n",
    "#3) RBF GP applied to BOW representation of genes (+ some biologically-inspired features) in their \n",
    "#       codon representations (i.e Gonzalez et al. 2016)\n",
    "#4) Our SSK approach applied to genes in their base representations\n",
    "#5) Our SSK approach applied to genes in their codon representations\n",
    "#6) Our split SSK approach applied to genes in their base representations\n",
    "#7) Our split SSK approach applied to genes in their codon representations\n",
    "#8) A purely randomized gene design loop"
   ]
  },
  {
   "cell_type": "markdown",
   "metadata": {},
   "source": [
    "# Collect initial points"
   ]
  },
  {
   "cell_type": "code",
   "execution_count": 6,
   "metadata": {},
   "outputs": [],
   "source": [
    "# collect initial design and initialize the search space (for both representations)\n",
    "np.random.seed(42)\n",
    "initial_points_count = 5\n",
    "\n",
    "np.random.seed(42)\n",
    "random_design_codon = RandomDesign(space_codon)\n",
    "X_init_codon = random_design_codon.get_samples(initial_points_count)\n",
    "np.random.seed(42)\n",
    "random_design_base = RandomDesign(space_base)\n",
    "X_init_base = random_design_base.get_samples(initial_points_count)\n",
    "Y_init = objective_base(X_init_base)\n",
    "\n"
   ]
  },
  {
   "cell_type": "markdown",
   "metadata": {},
   "source": [
    "# 1) Linear GP "
   ]
  },
  {
   "cell_type": "code",
   "execution_count": 7,
   "metadata": {},
   "outputs": [
    {
     "name": "stdout",
     "output_type": "stream",
     "text": [
      "Optimization restart 1/1, f = 9.386233715548721\n"
     ]
    }
   ],
   "source": [
    "# build BO loop\n",
    "# fit BOW model\n",
    "model = linear_model(space_base,X_init_base,Y_init)\n",
    "# Load core elements for Bayesian optimization\n",
    "expected_improvement = ExpectedImprovement(model)\n",
    "# either use genetic algorithm or random search to optimize acqusition function\n",
    "optimizer =  ProteinBaseGeneticProgrammingOptimizer(space_base,dynamic=True,population_size=100,tournament_prob=0.5,p_crossover= 0.8, p_mutation=0.1)\n",
    "# optimizer = RandomSearchAcquisitionOptimizer(space,10000)\n",
    "bayesopt_loop_linear = BayesianOptimizationLoop(model = model, \n",
    "                                         space = space_base,\n",
    "                                         acquisition = expected_improvement,\n",
    "                                         acquisition_optimizer = optimizer)\n",
    "# add loop summary\n",
    "def summary(loop, loop_state):\n",
    "    print(\"Performing BO step {}\".format(loop.loop_state.iteration))\n",
    "bayesopt_loop_linear.iteration_end_event.append(summary)"
   ]
  },
  {
   "cell_type": "code",
   "execution_count": 8,
   "metadata": {},
   "outputs": [
    {
     "name": "stdout",
     "output_type": "stream",
     "text": [
      "Optimization restart 1/1, f = 9.386233715548721\n",
      "Performing BO step 1\n",
      "Optimization restart 1/1, f = 11.39476338250529\n",
      "Performing BO step 2\n",
      "Optimization restart 1/1, f = 11.902867925628946\n",
      "Performing BO step 3\n",
      "Optimization restart 1/1, f = 13.722787563893545\n",
      "Performing BO step 4\n",
      "Optimization restart 1/1, f = 13.696552909452144\n",
      "Performing BO step 5\n",
      "Optimization restart 1/1, f = 13.134150458098407\n",
      "Performing BO step 6\n",
      "Optimization restart 1/1, f = 12.760782892854383\n",
      "Performing BO step 7\n",
      "Optimization restart 1/1, f = 16.951426639135043\n",
      "Performing BO step 8\n",
      "Optimization restart 1/1, f = 19.56638139095619\n",
      "Performing BO step 9\n",
      "Optimization restart 1/1, f = 20.75653668799771\n",
      "Performing BO step 10\n",
      "Optimization restart 1/1, f = 25.033021115903715\n"
     ]
    }
   ],
   "source": [
    "np.random.seed(42)\n",
    "# run BO loop for 10 steps \n",
    "stopping_condition = FixedIterationsStoppingCondition(i_max = 10) \n",
    "bayesopt_loop_linear.run_loop(objective_base, stopping_condition)"
   ]
  },
  {
   "cell_type": "markdown",
   "metadata": {},
   "source": [
    "# 2) BOW of bases"
   ]
  },
  {
   "cell_type": "code",
   "execution_count": 9,
   "metadata": {},
   "outputs": [
    {
     "name": "stdout",
     "output_type": "stream",
     "text": [
      "Optimization restart 1/1, f = 7.094692902184848\n"
     ]
    }
   ],
   "source": [
    "# build BO loop\n",
    "# fit BOW model\n",
    "model = BOW_model(space_base,X_init_base,Y_init,max_feature_length=5)\n",
    "# Load core elements for Bayesian optimization\n",
    "expected_improvement = ExpectedImprovement(model)\n",
    "# either use genetic algorithm or random search to optimize acqusition function\n",
    "optimizer =  ProteinBaseGeneticProgrammingOptimizer(space_base,dynamic=True,population_size=100,tournament_prob=0.5,p_crossover= 0.8, p_mutation=0.1)\n",
    "# optimizer = RandomSearchAcquisitionOptimizer(space,10000)\n",
    "bayesopt_loop_BOW = BayesianOptimizationLoop(model = model, \n",
    "                                         space = space_base,\n",
    "                                         acquisition = expected_improvement,\n",
    "                                         acquisition_optimizer = optimizer)\n",
    "bayesopt_loop_BOW.iteration_end_event.append(summary)"
   ]
  },
  {
   "cell_type": "code",
   "execution_count": 10,
   "metadata": {},
   "outputs": [
    {
     "name": "stdout",
     "output_type": "stream",
     "text": [
      "Optimization restart 1/1, f = 7.094692902184848\n",
      "Performing BO step 1\n",
      "Optimization restart 1/1, f = 7.807354037809734\n",
      "Performing BO step 2\n",
      "Optimization restart 1/1, f = 9.932569732459173\n",
      "Performing BO step 3\n",
      "Optimization restart 1/1, f = 11.351508265667626\n",
      "Performing BO step 4\n",
      "Optimization restart 1/1, f = 12.77044679884241\n",
      "Performing BO step 5\n",
      "Optimization restart 1/1, f = 14.18938533204712\n",
      "Performing BO step 6\n",
      "Optimization restart 1/1, f = 15.608323865251833\n",
      "Performing BO step 7\n",
      "Optimization restart 1/1, f = 17.02726239845655\n",
      "Performing BO step 8\n",
      "Optimization restart 1/1, f = 18.44620093166126\n",
      "Performing BO step 9\n",
      "Optimization restart 1/1, f = 19.865139464865972\n",
      "Performing BO step 10\n",
      "Optimization restart 1/1, f = 21.284077998070686\n"
     ]
    }
   ],
   "source": [
    "np.random.seed(42)\n",
    "# run BO loop for 10 steps \n",
    "stopping_condition = FixedIterationsStoppingCondition(i_max = 10) \n",
    "bayesopt_loop_BOW.run_loop(objective_base, stopping_condition)"
   ]
  },
  {
   "cell_type": "markdown",
   "metadata": {},
   "source": [
    "# 3) BOW of codons + biollogically inspired features"
   ]
  },
  {
   "cell_type": "code",
   "execution_count": 11,
   "metadata": {},
   "outputs": [
    {
     "name": "stdout",
     "output_type": "stream",
     "text": [
      "Optimization restart 1/1, f = 7.094692674813557\n"
     ]
    }
   ],
   "source": [
    "# build BO loop\n",
    "# fit model\n",
    "model = BIO_Features_model(space_base,X_init_base,Y_init,max_feature_length=5)\n",
    "# Load core elements for Bayesian optimization\n",
    "expected_improvement = ExpectedImprovement(model)\n",
    "# either use genetic algorithm or random search to optimize acqusition function\n",
    "optimizer =  ProteinBaseGeneticProgrammingOptimizer(space_base,dynamic=True,population_size=100,tournament_prob=0.5,p_crossover= 0.8, p_mutation=0.1)\n",
    "# optimizer = RandomSearchAcquisitionOptimizer(space,10000)\n",
    "bayesopt_loop_BIO = BayesianOptimizationLoop(model = model, \n",
    "                                         space = space_base,\n",
    "                                         acquisition = expected_improvement,\n",
    "                                         acquisition_optimizer = optimizer)\n",
    "bayesopt_loop_BIO.iteration_end_event.append(summary)"
   ]
  },
  {
   "cell_type": "code",
   "execution_count": 12,
   "metadata": {},
   "outputs": [
    {
     "name": "stdout",
     "output_type": "stream",
     "text": [
      "Optimization restart 1/1, f = 7.094692674813557\n",
      "Performing BO step 1\n",
      "Optimization restart 1/1, f = 8.513631199228353\n",
      "Performing BO step 2\n",
      "Optimization restart 1/1, f = 9.932569732433079\n",
      "Performing BO step 3\n",
      "Optimization restart 1/1, f = 11.351508265637799\n",
      "Performing BO step 4\n",
      "Optimization restart 1/1, f = 12.77044679884252\n",
      "Performing BO step 5\n",
      "Optimization restart 1/1, f = 14.18938533204723\n",
      "Performing BO step 6\n",
      "Optimization restart 1/1, f = 15.608323865251954\n",
      "Performing BO step 7\n",
      "Optimization restart 1/1, f = 17.027262398456678\n",
      "Performing BO step 8\n",
      "Optimization restart 1/1, f = 18.446200931661394\n",
      "Performing BO step 9\n",
      "Optimization restart 1/1, f = 19.865139464866132\n",
      "Performing BO step 10\n",
      "Optimization restart 1/1, f = 21.28407799807086\n"
     ]
    }
   ],
   "source": [
    "# run BO loop for 10 steps \n",
    "stopping_condition = FixedIterationsStoppingCondition(i_max = 10) \n",
    "bayesopt_loop_BIO.run_loop(objective_base, stopping_condition)"
   ]
  },
  {
   "cell_type": "markdown",
   "metadata": {},
   "source": [
    "# 4) SSK applied to base representations"
   ]
  },
  {
   "cell_type": "code",
   "execution_count": 13,
   "metadata": {},
   "outputs": [
    {
     "name": "stderr",
     "output_type": "stream",
     "text": [
      "reconstraining parameters GP_regression.sk.Gap_decay\n",
      "reconstraining parameters GP_regression.sk.Match_decay\n"
     ]
    }
   ],
   "source": [
    "# build BO loop\n",
    "# fit SSK model\n",
    "model = SSK_model(space_base,X_init_base,Y_init,max_subsequence_length=5)\n",
    "# Load core elements for Bayesian optimization\n",
    "expected_improvement = ExpectedImprovement(model)\n",
    "# either use genetic algorithm or random search to optimize acqusition function\n",
    "optimizer =  ProteinBaseGeneticProgrammingOptimizer(space_base,dynamic=True,population_size=100,tournament_prob=0.5,p_crossover= 0.8, p_mutation=0.1)\n",
    "# optimizer = RandomSearchAcquisitionOptimizer(space,10000)\n",
    "bayesopt_loop_SSK_base= BayesianOptimizationLoop(model = model, \n",
    "                                         space = space_base,\n",
    "                                         acquisition = expected_improvement,\n",
    "                                         acquisition_optimizer = optimizer)\n",
    "bayesopt_loop_SSK_base.iteration_end_event.append(summary)"
   ]
  },
  {
   "cell_type": "code",
   "execution_count": 14,
   "metadata": {},
   "outputs": [
    {
     "name": "stdout",
     "output_type": "stream",
     "text": [
      "Optimization restart 1/3, f = 16.891289062554996\n",
      "Optimization restart 2/3, f = 16.89129368114157\n",
      "Optimization restart 3/3, f = 16.891288827030028\n",
      "Performing BO step 1\n",
      "Optimization restart 1/3, f = 12.84712888639276\n",
      "Optimization restart 2/3, f = 12.847130466946714\n",
      "Optimization restart 3/3, f = 12.8471249278725\n",
      "Performing BO step 2\n",
      "Optimization restart 1/3, f = 10.114646231499993\n",
      "Optimization restart 2/3, f = 10.11465062234591\n",
      "Optimization restart 3/3, f = 10.1146532191346\n",
      "Performing BO step 3\n",
      "Optimization restart 1/3, f = 8.84434739036907\n",
      "Optimization restart 2/3, f = 8.844352474917223\n",
      "Optimization restart 3/3, f = 8.844347398742778\n",
      "Performing BO step 4\n",
      "Optimization restart 1/3, f = 9.116141610274395\n",
      "Optimization restart 2/3, f = 9.116141642357565\n",
      "Optimization restart 3/3, f = 9.116141628389588\n",
      "Performing BO step 5\n",
      "Optimization restart 1/3, f = 9.457017507800904\n",
      "Optimization restart 2/3, f = 9.457021153705833\n",
      "Optimization restart 3/3, f = 9.457017693184056\n",
      "Performing BO step 6\n",
      "Optimization restart 1/3, f = 9.256183918813207\n",
      "Optimization restart 2/3, f = 9.256188540572568\n",
      "Optimization restart 3/3, f = 9.256186489973192\n",
      "Performing BO step 7\n",
      "Optimization restart 1/3, f = 9.497623183846684\n",
      "Optimization restart 2/3, f = 9.49762586335735\n",
      "Optimization restart 3/3, f = 9.497623222211796\n",
      "Performing BO step 8\n",
      "Optimization restart 1/3, f = 9.303698718779083\n",
      "Optimization restart 2/3, f = 9.303698730477967\n",
      "Optimization restart 3/3, f = 9.303705684457166\n",
      "Performing BO step 9\n",
      "Optimization restart 1/3, f = 8.267783351361418\n",
      "Optimization restart 2/3, f = 8.267788861974408\n",
      "Optimization restart 3/3, f = 8.26778639885806\n",
      "Performing BO step 10\n",
      "Optimization restart 1/3, f = 14.244400842203051\n",
      "Optimization restart 2/3, f = 14.244400860180713\n",
      "Optimization restart 3/3, f = 14.244402246281235\n"
     ]
    }
   ],
   "source": [
    "np.random.seed(42)\n",
    "# run BO loop for 10 steps \n",
    "stopping_condition = FixedIterationsStoppingCondition(i_max = 10) \n",
    "bayesopt_loop_SSK_base.run_loop(objective_base, stopping_condition)"
   ]
  },
  {
   "cell_type": "markdown",
   "metadata": {},
   "source": [
    "# 5) SSK applied to codon representations"
   ]
  },
  {
   "cell_type": "code",
   "execution_count": 15,
   "metadata": {},
   "outputs": [
    {
     "name": "stderr",
     "output_type": "stream",
     "text": [
      "reconstraining parameters GP_regression.sk.Gap_decay\n",
      "reconstraining parameters GP_regression.sk.Match_decay\n"
     ]
    }
   ],
   "source": [
    "# build BO loop\n",
    "# fit SSK model\n",
    "model = SSK_model(space_codon,X_init_codon,Y_init,max_subsequence_length=5)\n",
    "# Load core elements for Bayesian optimization\n",
    "expected_improvement = ExpectedImprovement(model)\n",
    "# either use genetic algorithm or random search to optimize acqusition function\n",
    "optimizer =  ProteinCodonGeneticProgrammingOptimizer(space_codon,dynamic=True,population_size=100,tournament_prob=0.5,p_crossover= 0.8, p_mutation=0.1)\n",
    "# optimizer = RandomSearchAcquisitionOptimizer(space,10000)\n",
    "bayesopt_loop_SSK_codon= BayesianOptimizationLoop(model = model, \n",
    "                                         space = space_codon,\n",
    "                                         acquisition = expected_improvement,\n",
    "                                         acquisition_optimizer = optimizer)\n",
    "bayesopt_loop_SSK_codon.iteration_end_event.append(summary)"
   ]
  },
  {
   "cell_type": "code",
   "execution_count": 16,
   "metadata": {},
   "outputs": [
    {
     "name": "stdout",
     "output_type": "stream",
     "text": [
      "Optimization restart 1/3, f = 7.276460015889786\n",
      "Optimization restart 2/3, f = 7.276461724256364\n",
      "Optimization restart 3/3, f = 7.276471351257118\n",
      "Performing BO step 1\n",
      "Optimization restart 1/3, f = 8.038692872980997\n",
      "Optimization restart 2/3, f = 8.038698016008011\n",
      "Optimization restart 3/3, f = 8.038699132669082\n",
      "Performing BO step 2\n",
      "Optimization restart 1/3, f = 9.473403710977937\n",
      "Optimization restart 2/3, f = 9.515876643155767\n",
      "Optimization restart 3/3, f = 9.515873613120323\n",
      "Performing BO step 3\n",
      "Optimization restart 1/3, f = 10.06201973434613\n",
      "Optimization restart 2/3, f = 9.115803536166176\n",
      "Optimization restart 3/3, f = 9.115805062464979\n",
      "Performing BO step 4\n",
      "Optimization restart 1/3, f = 11.456303576828955\n",
      "Optimization restart 2/3, f = 11.410319081899557\n",
      "Optimization restart 3/3, f = 11.410319170491135\n",
      "Performing BO step 5\n",
      "Optimization restart 1/3, f = 11.453119933970306\n",
      "Optimization restart 2/3, f = 11.453119421913247\n",
      "Optimization restart 3/3, f = 11.453119219494937\n",
      "Performing BO step 6\n",
      "Optimization restart 1/3, f = 11.640554125344599\n",
      "Optimization restart 2/3, f = 11.640555180105846\n",
      "Optimization restart 3/3, f = 11.640564741347461\n",
      "Performing BO step 7\n",
      "Optimization restart 1/3, f = 13.9835670448584\n",
      "Optimization restart 2/3, f = 13.858540223842041\n",
      "Optimization restart 3/3, f = 13.858540223785766\n",
      "Performing BO step 8\n",
      "Optimization restart 1/3, f = 14.16459632463909\n",
      "Optimization restart 2/3, f = 14.164596324624725\n",
      "Optimization restart 3/3, f = 14.16459632461968\n",
      "Performing BO step 9\n",
      "Optimization restart 1/3, f = 14.281261763039174\n",
      "Optimization restart 2/3, f = 14.281261763097792\n",
      "Optimization restart 3/3, f = 14.281261763038973\n",
      "Performing BO step 10\n",
      "Optimization restart 1/3, f = 14.371673048200654\n",
      "Optimization restart 2/3, f = 14.42430329598569\n",
      "Optimization restart 3/3, f = 14.371673048179927\n"
     ]
    }
   ],
   "source": [
    "np.random.seed(42)\n",
    "# run BO loop for 10 steps \n",
    "stopping_condition = FixedIterationsStoppingCondition(i_max = 10) \n",
    "bayesopt_loop_SSK_codon.run_loop(objective_codon, stopping_condition)"
   ]
  },
  {
   "cell_type": "markdown",
   "metadata": {},
   "source": [
    "# 6) SSK applied to base representations split into 6\n"
   ]
  },
  {
   "cell_type": "code",
   "execution_count": 17,
   "metadata": {},
   "outputs": [
    {
     "name": "stderr",
     "output_type": "stream",
     "text": [
      "reconstraining parameters GP_regression.sk.Gap_decay\n",
      "reconstraining parameters GP_regression.sk.Match_decay\n"
     ]
    }
   ],
   "source": [
    "# build BO loop\n",
    "# fit SSK model\n",
    "model = SSK_model(space_base,X_init_base,Y_init,num_splits=6,max_subsequence_length=5)\n",
    "# Load core elements for Bayesian optimization\n",
    "expected_improvement = ExpectedImprovement(model)\n",
    "# either use genetic algorithm or random search to optimize acqusition function\n",
    "optimizer =  ProteinBaseGeneticProgrammingOptimizer(space_base,dynamic=True,population_size=100,tournament_prob=0.5,p_crossover= 0.8, p_mutation=0.1)\n",
    "# optimizer = RandomSearchAcquisitionOptimizer(space,10000)\n",
    "bayesopt_loop_SSK_base_split= BayesianOptimizationLoop(model = model, \n",
    "                                         space = space_base,\n",
    "                                         acquisition = expected_improvement,\n",
    "                                         acquisition_optimizer = optimizer)\n",
    "bayesopt_loop_SSK_base_split.iteration_end_event.append(summary)"
   ]
  },
  {
   "cell_type": "code",
   "execution_count": 18,
   "metadata": {},
   "outputs": [
    {
     "name": "stdout",
     "output_type": "stream",
     "text": [
      "Optimization restart 1/3, f = 8.747444226983077\n",
      "Optimization restart 2/3, f = 8.747451734764422\n",
      "Optimization restart 3/3, f = 8.747447115758355\n",
      "Performing BO step 1\n",
      "Optimization restart 1/3, f = 10.018967606251977\n",
      "Optimization restart 2/3, f = 10.018968300055008\n",
      "Optimization restart 3/3, f = 10.01896766390808\n",
      "Performing BO step 2\n",
      "Optimization restart 1/3, f = 10.154447310709244\n",
      "Optimization restart 2/3, f = 10.154451943432363\n",
      "Optimization restart 3/3, f = 10.154453150603656\n",
      "Performing BO step 3\n",
      "Optimization restart 1/3, f = 10.518539121314667\n",
      "Optimization restart 2/3, f = 10.518600629165107\n",
      "Optimization restart 3/3, f = 10.51854248406548\n",
      "Performing BO step 4\n",
      "Optimization restart 1/3, f = 14.387406388428156\n",
      "Optimization restart 2/3, f = 13.952619487175959\n",
      "Optimization restart 3/3, f = 13.952619536298144\n",
      "Performing BO step 5\n",
      "Optimization restart 1/3, f = 17.891201008086313\n",
      "Optimization restart 2/3, f = 17.87547661164786\n",
      "Optimization restart 3/3, f = 17.875479308444795\n",
      "Performing BO step 6\n",
      "Optimization restart 1/3, f = 16.981663858808062\n",
      "Optimization restart 2/3, f = 16.981664078641142\n",
      "Optimization restart 3/3, f = 16.981666214291515\n",
      "Performing BO step 7\n",
      "Optimization restart 1/3, f = 17.333035256708442\n",
      "Optimization restart 2/3, f = 17.25412745422033\n",
      "Optimization restart 3/3, f = 17.254127454220473\n",
      "Performing BO step 8\n",
      "Optimization restart 1/3, f = 17.316928205542382\n",
      "Optimization restart 2/3, f = 17.31692820582231\n",
      "Optimization restart 3/3, f = 17.316928205535273\n",
      "Performing BO step 9\n",
      "Optimization restart 1/3, f = 19.32210113024108\n",
      "Optimization restart 2/3, f = 19.322101129979284\n",
      "Optimization restart 3/3, f = 19.32210112998473\n",
      "Performing BO step 10\n",
      "Optimization restart 1/3, f = 19.151912953264635\n",
      "Optimization restart 2/3, f = 19.151912954433797\n",
      "Optimization restart 3/3, f = 19.15191295324673\n"
     ]
    }
   ],
   "source": [
    "np.random.seed(42)\n",
    "# run BO loop for 10 steps \n",
    "stopping_condition = FixedIterationsStoppingCondition(i_max = 10) \n",
    "bayesopt_loop_SSK_base_split.run_loop(objective_base, stopping_condition)"
   ]
  },
  {
   "cell_type": "markdown",
   "metadata": {},
   "source": [
    "# 7) SSK applied to codon representations split into 2\n"
   ]
  },
  {
   "cell_type": "code",
   "execution_count": 19,
   "metadata": {},
   "outputs": [
    {
     "name": "stderr",
     "output_type": "stream",
     "text": [
      "reconstraining parameters GP_regression.sk.Gap_decay\n",
      "reconstraining parameters GP_regression.sk.Match_decay\n"
     ]
    }
   ],
   "source": [
    "# build BO loop\n",
    "# fit SSK model\n",
    "model = SSK_model(space_codon,X_init_codon,Y_init,num_splits=2,max_subsequence_length=5)\n",
    "# Load core elements for Bayesian optimization\n",
    "expected_improvement = ExpectedImprovement(model)\n",
    "# either use genetic algorithm or random search to optimize acqusition function\n",
    "optimizer =  ProteinCodonGeneticProgrammingOptimizer(space_codon,dynamic=True,population_size=100,tournament_prob=0.5,p_crossover= 0.8, p_mutation=0.1)\n",
    "# optimizer = RandomSearchAcquisitionOptimizer(space,10000)\n",
    "bayesopt_loop_SSK_codon_split= BayesianOptimizationLoop(model = model, \n",
    "                                         space = space_codon,\n",
    "                                         acquisition = expected_improvement,\n",
    "                                         acquisition_optimizer = optimizer)\n",
    "bayesopt_loop_SSK_codon_split.iteration_end_event.append(summary)"
   ]
  },
  {
   "cell_type": "code",
   "execution_count": 20,
   "metadata": {},
   "outputs": [
    {
     "name": "stdout",
     "output_type": "stream",
     "text": [
      "Optimization restart 1/3, f = 8.05089644609358\n",
      "Optimization restart 2/3, f = 8.050905500751588\n",
      "Optimization restart 3/3, f = 8.050902634221202\n",
      "Performing BO step 1\n",
      "Optimization restart 1/3, f = 8.916839864872802\n",
      "Optimization restart 2/3, f = 8.91683354377258\n",
      "Optimization restart 3/3, f = 8.916833641342366\n",
      "Performing BO step 2\n",
      "Optimization restart 1/3, f = 12.173709991276318\n",
      "Optimization restart 2/3, f = 12.14575157336915\n",
      "Optimization restart 3/3, f = 12.145761301022443\n",
      "Performing BO step 3\n",
      "Optimization restart 1/3, f = 15.325525805389375\n",
      "Optimization restart 2/3, f = 15.325525642265601\n",
      "Optimization restart 3/3, f = 15.325525826451123\n",
      "Performing BO step 4\n",
      "Optimization restart 1/3, f = 14.02636115303856\n",
      "Optimization restart 2/3, f = 14.026365564976922\n",
      "Optimization restart 3/3, f = 14.026366620723405\n",
      "Performing BO step 5\n",
      "Optimization restart 1/3, f = 13.753686513670466\n",
      "Optimization restart 2/3, f = 13.662136298659437\n",
      "Optimization restart 3/3, f = 13.662137529020894\n",
      "Performing BO step 6\n",
      "Optimization restart 1/3, f = 14.467286839263057\n",
      "Optimization restart 2/3, f = 14.467292977138396\n",
      "Optimization restart 3/3, f = 14.467291143884388\n",
      "Performing BO step 7\n",
      "Optimization restart 1/3, f = 15.799398232469581\n",
      "Optimization restart 2/3, f = 15.799398184407744\n",
      "Optimization restart 3/3, f = 15.799400329409615\n",
      "Performing BO step 8\n",
      "Optimization restart 1/3, f = 16.040766480658185\n",
      "Optimization restart 2/3, f = 16.04076642801349\n",
      "Optimization restart 3/3, f = 16.040766413948372\n",
      "Performing BO step 9\n",
      "Optimization restart 1/3, f = 16.7501522631257\n",
      "Optimization restart 2/3, f = 16.750155739685262\n",
      "Optimization restart 3/3, f = 16.750156320792424\n",
      "Performing BO step 10\n",
      "Optimization restart 1/3, f = 16.9590240195132\n",
      "Optimization restart 2/3, f = 16.959024575525504\n",
      "Optimization restart 3/3, f = 16.959024031001064\n"
     ]
    }
   ],
   "source": [
    "np.random.seed(42)\n",
    "# run BO loop for 10 steps \n",
    "stopping_condition = FixedIterationsStoppingCondition(i_max = 10) \n",
    "bayesopt_loop_SSK_codon_split.run_loop(objective_codon, stopping_condition)"
   ]
  },
  {
   "cell_type": "markdown",
   "metadata": {},
   "source": [
    "# 8) Perform random search"
   ]
  },
  {
   "cell_type": "code",
   "execution_count": 21,
   "metadata": {},
   "outputs": [],
   "source": [
    "np.random.seed(42)\n",
    "# also see performance of random search \n",
    "#(starting from the initialization used by the other approaches)\n",
    "Y_random=np.vstack([Y_init,objective_base(random_design_base.get_samples(10))])"
   ]
  },
  {
   "cell_type": "markdown",
   "metadata": {},
   "source": [
    "# plot results"
   ]
  },
  {
   "cell_type": "code",
   "execution_count": 22,
   "metadata": {
    "scrolled": false
   },
   "outputs": [
    {
     "data": {
      "text/plain": [
       "<matplotlib.legend.Legend at 0x7f14313fa250>"
      ]
     },
     "execution_count": 22,
     "metadata": {},
     "output_type": "execute_result"
    },
    {
     "data": {
      "image/png": "[encoded data removed]",
      "text/plain": [
       "<Figure size 432x288 with 1 Axes>"
      ]
     },
     "metadata": {
      "needs_background": "light"
     },
     "output_type": "display_data"
    }
   ],
   "source": [
    "# recall that first 5 points are a random sample shared by all the methods\n",
    "# must run over multiple seeds to get an reliable idea of which algorithm is more efficient\n",
    "plt.plot(np.minimum.accumulate(bayesopt_loop_linear.loop_state.Y),label=\"Linear\")\n",
    "plt.plot(np.minimum.accumulate(bayesopt_loop_BOW.loop_state.Y),label=\"BOW bases\")\n",
    "plt.plot(np.minimum.accumulate(bayesopt_loop_BIO.loop_state.Y),label=\"Bio Features\")\n",
    "\n",
    "plt.plot(np.minimum.accumulate(bayesopt_loop_SSK_base.loop_state.Y),label=\"SSK bases\")\n",
    "plt.plot(np.minimum.accumulate(bayesopt_loop_SSK_codon.loop_state.Y),label=\"SSK codons\")\n",
    "plt.plot(np.minimum.accumulate(bayesopt_loop_SSK_base_split.loop_state.Y),label=\"Split SSK bases % 6\")\n",
    "plt.plot(np.minimum.accumulate(bayesopt_loop_SSK_codon_split.loop_state.Y),label=\"Split SSK codons % 2\")\n",
    "\n",
    "plt.plot(np.minimum.accumulate(Y_random),label=\"Random Search\")\n",
    "\n",
    "plt.ylabel('Current best')\n",
    "plt.xlabel('Iteration')\n",
    "plt.legend()"
   ]
  }
 ],
 "metadata": {
  "kernelspec": {
   "display_name": "boss",
   "language": "python",
   "name": "boss"
  },
  "language_info": {
   "codemirror_mode": {
    "name": "ipython",
    "version": 3
   },
   "file_extension": ".py",
   "mimetype": "text/x-python",
   "name": "python",
   "nbconvert_exporter": "python",
   "pygments_lexer": "ipython3",
   "version": "3.7.6"
  }
 },
 "nbformat": 4,
 "nbformat_minor": 4
}
