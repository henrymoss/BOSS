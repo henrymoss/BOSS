{
  "nbformat": 4,
  "nbformat_minor": 0,
  "metadata": {
    "colab": {
      "name": "Molecule_prediction_demo.ipynb",
      "provenance": [],
      "authorship_tag": "ABX9TyNJZ0uT1HWFaht9UrZiuP29",
      "include_colab_link": true
    },
    "kernelspec": {
      "name": "python3",
      "display_name": "Python 3"
    },
    "accelerator": "GPU"
  },
  "cells": [
    {
      "cell_type": "markdown",
      "metadata": {
        "id": "view-in-github",
        "colab_type": "text"
      },
      "source": [
        "<a href=\"https://colab.research.google.com/github/henrymoss/BOSS/blob/master/Molecule_prediction_demo.ipynb\" target=\"_parent\"><img src=\"https://colab.research.google.com/assets/colab-badge.svg\" alt=\"Open In Colab\"/></a>"
      ]
    },
    {
      "cell_type": "markdown",
      "metadata": {
        "id": "HTUiqWXufof8"
      },
      "source": [
        "# Molecule Prediction Demo with String Kernels on a GPU"
      ]
    },
    {
      "cell_type": "markdown",
      "metadata": {
        "id": "elkneXmhjOt6"
      },
      "source": [
        "## This notebook is designed to be ran on Google colab"
      ]
    },
    {
      "cell_type": "markdown",
      "metadata": {
        "id": "VeWPtM8agDjd"
      },
      "source": [
        "Demonstration of GPU support for the subset string kernel. Remember to turn on the colab GPU!!!\n",
        "\n",
        "We fit our string kernel to approx 600 strings of length 85"
      ]
    },
    {
      "cell_type": "code",
      "metadata": {
        "id": "M9MJUuIGZUCv",
        "outputId": "e8597ed3-a006-434e-cf2d-2777c88aec2b",
        "colab": {
          "base_uri": "https://localhost:8080/",
          "height": 1000
        }
      },
      "source": [
        "!git clone https://github.com/henrymoss/BOSS\n",
        "!pip install gpflow\n",
        "\n",
        "import numpy as np\n",
        "import pandas as pd\n",
        "import pandas as pd\n",
        "from matplotlib import pyplot as plt\n",
        "from time import time\n",
        "import tensorflow as tf\n",
        "from sklearn.model_selection import train_test_split\n",
        "from sklearn.metrics import r2_score, mean_squared_error, mean_absolute_error\n",
        "from sklearn.preprocessing import StandardScaler\n",
        "import gpflow\n",
        "from gpflow.mean_functions import Constant\n",
        "from gpflow import set_trainable\n",
        "from gpflow.utilities import positive\n",
        "from sklearn.model_selection import train_test_split\n",
        "from BOSS.boss.code.GPflow_wrappers.Batch_SSK import Batch_SSK"
      ],
      "execution_count": 1,
      "outputs": [
        {
          "output_type": "stream",
          "text": [
            "Cloning into 'BOSS'...\n",
            "remote: Enumerating objects: 662, done.\u001b[K\n",
            "remote: Counting objects: 100% (662/662), done.\u001b[K\n",
            "remote: Compressing objects: 100% (427/427), done.\u001b[K\n",
            "remote: Total 662 (delta 402), reused 485 (delta 225), pack-reused 0\u001b[K\n",
            "Receiving objects: 100% (662/662), 7.67 MiB | 2.33 MiB/s, done.\n",
            "Resolving deltas: 100% (402/402), done.\n",
            "Collecting gpflow\n",
            "\u001b[?25l  Downloading https://files.pythonhosted.org/packages/dd/21/63557b5ba63e3b8c9ca6a82989e5b1b91ac41a5d593482a4c5ce8360b0e6/gpflow-2.1.2-py3-none-any.whl (253kB)\n",
            "\u001b[K     |████████████████████████████████| 256kB 9.2MB/s \n",
            "\u001b[?25hRequirement already satisfied: scipy in /usr/local/lib/python3.6/dist-packages (from gpflow) (1.4.1)\n",
            "Requirement already satisfied: typing-extensions in /usr/local/lib/python3.6/dist-packages (from gpflow) (3.7.4.3)\n",
            "Requirement already satisfied: packaging in /usr/local/lib/python3.6/dist-packages (from gpflow) (20.4)\n",
            "Requirement already satisfied: dataclasses in /usr/local/lib/python3.6/dist-packages (from gpflow) (0.7)\n",
            "Requirement already satisfied: numpy in /usr/local/lib/python3.6/dist-packages (from gpflow) (1.18.5)\n",
            "Requirement already satisfied: tensorflow>=2.1.0 in /usr/local/lib/python3.6/dist-packages (from gpflow) (2.3.0)\n",
            "Collecting multipledispatch>=0.6\n",
            "  Downloading https://files.pythonhosted.org/packages/89/79/429ecef45fd5e4504f7474d4c3c3c4668c267be3370e4c2fd33e61506833/multipledispatch-0.6.0-py3-none-any.whl\n",
            "Requirement already satisfied: setuptools>=41.0.0 in /usr/local/lib/python3.6/dist-packages (from gpflow) (50.3.0)\n",
            "Requirement already satisfied: tensorflow-probability>0.10.0 in /usr/local/lib/python3.6/dist-packages (from gpflow) (0.11.0)\n",
            "Requirement already satisfied: tabulate in /usr/local/lib/python3.6/dist-packages (from gpflow) (0.8.7)\n",
            "Requirement already satisfied: six in /usr/local/lib/python3.6/dist-packages (from packaging->gpflow) (1.15.0)\n",
            "Requirement already satisfied: pyparsing>=2.0.2 in /usr/local/lib/python3.6/dist-packages (from packaging->gpflow) (2.4.7)\n",
            "Requirement already satisfied: keras-preprocessing<1.2,>=1.1.1 in /usr/local/lib/python3.6/dist-packages (from tensorflow>=2.1.0->gpflow) (1.1.2)\n",
            "Requirement already satisfied: protobuf>=3.9.2 in /usr/local/lib/python3.6/dist-packages (from tensorflow>=2.1.0->gpflow) (3.12.4)\n",
            "Requirement already satisfied: tensorboard<3,>=2.3.0 in /usr/local/lib/python3.6/dist-packages (from tensorflow>=2.1.0->gpflow) (2.3.0)\n",
            "Requirement already satisfied: gast==0.3.3 in /usr/local/lib/python3.6/dist-packages (from tensorflow>=2.1.0->gpflow) (0.3.3)\n",
            "Requirement already satisfied: wrapt>=1.11.1 in /usr/local/lib/python3.6/dist-packages (from tensorflow>=2.1.0->gpflow) (1.12.1)\n",
            "Requirement already satisfied: opt-einsum>=2.3.2 in /usr/local/lib/python3.6/dist-packages (from tensorflow>=2.1.0->gpflow) (3.3.0)\n",
            "Requirement already satisfied: tensorflow-estimator<2.4.0,>=2.3.0 in /usr/local/lib/python3.6/dist-packages (from tensorflow>=2.1.0->gpflow) (2.3.0)\n",
            "Requirement already satisfied: termcolor>=1.1.0 in /usr/local/lib/python3.6/dist-packages (from tensorflow>=2.1.0->gpflow) (1.1.0)\n",
            "Requirement already satisfied: wheel>=0.26 in /usr/local/lib/python3.6/dist-packages (from tensorflow>=2.1.0->gpflow) (0.35.1)\n",
            "Requirement already satisfied: google-pasta>=0.1.8 in /usr/local/lib/python3.6/dist-packages (from tensorflow>=2.1.0->gpflow) (0.2.0)\n",
            "Requirement already satisfied: astunparse==1.6.3 in /usr/local/lib/python3.6/dist-packages (from tensorflow>=2.1.0->gpflow) (1.6.3)\n",
            "Requirement already satisfied: h5py<2.11.0,>=2.10.0 in /usr/local/lib/python3.6/dist-packages (from tensorflow>=2.1.0->gpflow) (2.10.0)\n",
            "Requirement already satisfied: absl-py>=0.7.0 in /usr/local/lib/python3.6/dist-packages (from tensorflow>=2.1.0->gpflow) (0.10.0)\n",
            "Requirement already satisfied: grpcio>=1.8.6 in /usr/local/lib/python3.6/dist-packages (from tensorflow>=2.1.0->gpflow) (1.32.0)\n",
            "Requirement already satisfied: cloudpickle==1.3 in /usr/local/lib/python3.6/dist-packages (from tensorflow-probability>0.10.0->gpflow) (1.3.0)\n",
            "Requirement already satisfied: decorator in /usr/local/lib/python3.6/dist-packages (from tensorflow-probability>0.10.0->gpflow) (4.4.2)\n",
            "Requirement already satisfied: dm-tree in /usr/local/lib/python3.6/dist-packages (from tensorflow-probability>0.10.0->gpflow) (0.1.5)\n",
            "Requirement already satisfied: google-auth-oauthlib<0.5,>=0.4.1 in /usr/local/lib/python3.6/dist-packages (from tensorboard<3,>=2.3.0->tensorflow>=2.1.0->gpflow) (0.4.1)\n",
            "Requirement already satisfied: google-auth<2,>=1.6.3 in /usr/local/lib/python3.6/dist-packages (from tensorboard<3,>=2.3.0->tensorflow>=2.1.0->gpflow) (1.17.2)\n",
            "Requirement already satisfied: markdown>=2.6.8 in /usr/local/lib/python3.6/dist-packages (from tensorboard<3,>=2.3.0->tensorflow>=2.1.0->gpflow) (3.2.2)\n",
            "Requirement already satisfied: werkzeug>=0.11.15 in /usr/local/lib/python3.6/dist-packages (from tensorboard<3,>=2.3.0->tensorflow>=2.1.0->gpflow) (1.0.1)\n",
            "Requirement already satisfied: tensorboard-plugin-wit>=1.6.0 in /usr/local/lib/python3.6/dist-packages (from tensorboard<3,>=2.3.0->tensorflow>=2.1.0->gpflow) (1.7.0)\n",
            "Requirement already satisfied: requests<3,>=2.21.0 in /usr/local/lib/python3.6/dist-packages (from tensorboard<3,>=2.3.0->tensorflow>=2.1.0->gpflow) (2.23.0)\n",
            "Requirement already satisfied: requests-oauthlib>=0.7.0 in /usr/local/lib/python3.6/dist-packages (from google-auth-oauthlib<0.5,>=0.4.1->tensorboard<3,>=2.3.0->tensorflow>=2.1.0->gpflow) (1.3.0)\n",
            "Requirement already satisfied: pyasn1-modules>=0.2.1 in /usr/local/lib/python3.6/dist-packages (from google-auth<2,>=1.6.3->tensorboard<3,>=2.3.0->tensorflow>=2.1.0->gpflow) (0.2.8)\n",
            "Requirement already satisfied: rsa<5,>=3.1.4; python_version >= \"3\" in /usr/local/lib/python3.6/dist-packages (from google-auth<2,>=1.6.3->tensorboard<3,>=2.3.0->tensorflow>=2.1.0->gpflow) (4.6)\n",
            "Requirement already satisfied: cachetools<5.0,>=2.0.0 in /usr/local/lib/python3.6/dist-packages (from google-auth<2,>=1.6.3->tensorboard<3,>=2.3.0->tensorflow>=2.1.0->gpflow) (4.1.1)\n",
            "Requirement already satisfied: importlib-metadata; python_version < \"3.8\" in /usr/local/lib/python3.6/dist-packages (from markdown>=2.6.8->tensorboard<3,>=2.3.0->tensorflow>=2.1.0->gpflow) (2.0.0)\n",
            "Requirement already satisfied: idna<3,>=2.5 in /usr/local/lib/python3.6/dist-packages (from requests<3,>=2.21.0->tensorboard<3,>=2.3.0->tensorflow>=2.1.0->gpflow) (2.10)\n",
            "Requirement already satisfied: chardet<4,>=3.0.2 in /usr/local/lib/python3.6/dist-packages (from requests<3,>=2.21.0->tensorboard<3,>=2.3.0->tensorflow>=2.1.0->gpflow) (3.0.4)\n",
            "Requirement already satisfied: urllib3!=1.25.0,!=1.25.1,<1.26,>=1.21.1 in /usr/local/lib/python3.6/dist-packages (from requests<3,>=2.21.0->tensorboard<3,>=2.3.0->tensorflow>=2.1.0->gpflow) (1.24.3)\n",
            "Requirement already satisfied: certifi>=2017.4.17 in /usr/local/lib/python3.6/dist-packages (from requests<3,>=2.21.0->tensorboard<3,>=2.3.0->tensorflow>=2.1.0->gpflow) (2020.6.20)\n",
            "Requirement already satisfied: oauthlib>=3.0.0 in /usr/local/lib/python3.6/dist-packages (from requests-oauthlib>=0.7.0->google-auth-oauthlib<0.5,>=0.4.1->tensorboard<3,>=2.3.0->tensorflow>=2.1.0->gpflow) (3.1.0)\n",
            "Requirement already satisfied: pyasn1<0.5.0,>=0.4.6 in /usr/local/lib/python3.6/dist-packages (from pyasn1-modules>=0.2.1->google-auth<2,>=1.6.3->tensorboard<3,>=2.3.0->tensorflow>=2.1.0->gpflow) (0.4.8)\n",
            "Requirement already satisfied: zipp>=0.5 in /usr/local/lib/python3.6/dist-packages (from importlib-metadata; python_version < \"3.8\"->markdown>=2.6.8->tensorboard<3,>=2.3.0->tensorflow>=2.1.0->gpflow) (3.2.0)\n",
            "Installing collected packages: multipledispatch, gpflow\n",
            "Successfully installed gpflow-2.1.2 multipledispatch-0.6.0\n"
          ],
          "name": "stdout"
        }
      ]
    },
    {
      "cell_type": "markdown",
      "metadata": {
        "id": "8A0zyk3Pf5UV"
      },
      "source": [
        "### Download and prep data"
      ]
    },
    {
      "cell_type": "code",
      "metadata": {
        "id": "UtQifHlcbC0q"
      },
      "source": [
        "# download data\n",
        "df = pd.read_csv(\"BOSS/example_data/FreeSolv.csv\")\n",
        "smiles_full = df['smiles'].to_list()\n",
        "property_vals = df['expt'].to_numpy()\n",
        "\n",
        "# Delete NaN values \n",
        "smiles_full = list(np.delete(np.array(smiles_full), np.argwhere(np.isnan(property_vals))))\n",
        "y_full = np.delete(property_vals, np.argwhere(np.isnan(property_vals)))\n",
        "\n",
        "# remove all molecules with long strings and format for string kernel\n",
        "smiles=[]\n",
        "y=[]\n",
        "for i in range(len(smiles_full)):\n",
        "    # only keep strings with less than 85 characters (all but one datapoint)\n",
        "    if len(smiles_full[i])<=85:\n",
        "        # split all characters with a space\n",
        "        smile = \" \".join(smiles_full[i])\n",
        "        # map multi-character expressions to single characters\n",
        "        smile = smile.replace(\"B r\",\"x\")\n",
        "        smile = smile.replace(\"C l\",\"y\")\n",
        "        smiles.append(smile)\n",
        "        y.append(y_full[i])\n",
        "smiles=np.array(smiles,dtype=object).reshape(-1,1)\n",
        "y=np.array(y).reshape(-1,1)"
      ],
      "execution_count": 3,
      "outputs": []
    },
    {
      "cell_type": "markdown",
      "metadata": {
        "id": "-0LbOoqUgU7G"
      },
      "source": [
        "### Split data and fit model"
      ]
    },
    {
      "cell_type": "code",
      "metadata": {
        "id": "QVGekTk1fAa9",
        "outputId": "ada2f1ed-1198-4d6a-8e50-5030c3ceeb11",
        "colab": {
          "base_uri": "https://localhost:8080/",
          "height": 34
        }
      },
      "source": [
        "# scale and split data\n",
        "y_scaler = StandardScaler()\n",
        "y_scaled = y_scaler.fit_transform(y)\n",
        "X_train, X_test, y_train, y_test = train_test_split(smiles, y_scaled, test_size=0.2, random_state=42)\n",
        "y_test = y_scaler.inverse_transform(y_test)\n",
        "\n",
        "# set up string kernel model\n",
        "max_subsequence_length=5\n",
        "alphabet = list(set(\"\".join([x[0] for x in X_train])))\n",
        "k = Batch_SSK(batch_size=3000,gap_decay=0.99,match_decay=0.53,alphabet=alphabet,max_subsequence_length = max_subsequence_length, maxlen=85)\n",
        "cst = gpflow.kernels.Constant(1.77)\n",
        "m = gpflow.models.GPR(data=(X_train, y_train), mean_function=Constant(0.2), kernel= cst*k, noise_variance=0.003)\n",
        "loss=m.log_marginal_likelihood()\n",
        "\n",
        "# fit model (turned off for quick demo, good hyper-parameters are already selected)\n",
        "# optimizer = gpflow.optimizers.Scipy()\n",
        "# optimizer.minimize(m.training_loss , m.trainable_variables,options=dict(ftol=0.0001),compile=False)\n",
        "\n",
        "# make predictions\n",
        "y_pred, y_var = m.predict_f(X_test)\n",
        "y_pred = y_scaler.inverse_transform(y_pred)\n",
        "print(f\"Test RMSE is {np.sqrt(mean_squared_error(y_test, y_pred))}\")"
      ],
      "execution_count": 6,
      "outputs": [
        {
          "output_type": "stream",
          "text": [
            "Test RMSE is 1.209136637820394\n"
          ],
          "name": "stdout"
        }
      ]
    },
    {
      "cell_type": "code",
      "metadata": {
        "id": "qvFjNKRrjN7y"
      },
      "source": [
        ""
      ],
      "execution_count": null,
      "outputs": []
    }
  ]
}