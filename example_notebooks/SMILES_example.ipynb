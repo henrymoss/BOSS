{
 "cells": [
  {
   "cell_type": "markdown",
   "metadata": {},
   "source": [
    "### script to apply SSK BO over a set of candidate strings\n",
    "### we demonstrate on the task of finding moelcules  with high scores"
   ]
  },
  {
   "cell_type": "code",
   "execution_count": 1,
   "metadata": {},
   "outputs": [],
   "source": [
    "import numpy as np\n",
    "import pickle\n",
    "import gzip\n",
    "import emukit\n",
    "import re\n",
    "import matplotlib.pyplot as plt\n",
    "from emukit.core.initial_designs import RandomDesign\n",
    "from emukit.core import ParameterSpace\n",
    "from emukit.core.optimization import RandomSearchAcquisitionOptimizer\n",
    "from emukit.bayesian_optimization.loops import BayesianOptimizationLoop\n",
    "from emukit.bayesian_optimization.acquisitions import ExpectedImprovement\n",
    "from emukit.core.loop import FixedIterationsStoppingCondition\n",
    "import warnings\n",
    "warnings.filterwarnings('ignore')"
   ]
  },
  {
   "cell_type": "code",
   "execution_count": 2,
   "metadata": {},
   "outputs": [],
   "source": [
    "#import our code\n",
    "from boss.code.parameters.candidate_parameter import CandidateStringParameter\n",
    "from boss.code.optimizers.StringGeneticAlgorithmAcquisitionOptimizer import StringGeneticProgrammingOptimizer\n",
    "from boss.code.emukit_models.emukit_bow_model import BOW_model\n",
    "from boss.code.emukit_models.emukit_linear_model import linear_model\n",
    "from boss.code.emukit_models.emukit_ssk_model import SSK_model"
   ]
  },
  {
   "cell_type": "markdown",
   "metadata": {},
   "source": [
    "# Explain Methods"
   ]
  },
  {
   "cell_type": "code",
   "execution_count": 3,
   "metadata": {},
   "outputs": [],
   "source": [
    "# we perform optimziation using our SSK-approach and random search\n",
    "# VAE baselines are availible for Grammar VAEs and Character VAES at https://github.com/mkusner/grammarVAE"
   ]
  },
  {
   "cell_type": "markdown",
   "metadata": {},
   "source": [
    "# Collect candidate strings "
   ]
  },
  {
   "cell_type": "code",
   "execution_count": 4,
   "metadata": {},
   "outputs": [],
   "source": [
    "# get 250,000 candidate molecules\n",
    "file = gzip.GzipFile(\"../example_data/SMILES/SMILES.gzip\", 'rb')\n",
    "data = file.read()\n",
    "smiles_full = pickle.loads(data)\n",
    "file.close()\n",
    "# get their scores\n",
    "file = gzip.GzipFile(\"../example_data/SMILES/TARGETS.gzip\", 'rb')\n",
    "data = file.read()\n",
    "targets_full = pickle.loads(data)\n",
    "file.close()\n",
    "# for tutorial only keep strings <40 length (for quick SSK)\n",
    "smiles=[]\n",
    "targets=[]\n",
    "for i in range(0,len(smiles_full)):\n",
    "    if len(smiles_full[i])<40:\n",
    "        smiles.append(smiles_full[i])\n",
    "        targets.append(targets_full[i])\n",
    "smiles=np.array(smiles)\n",
    "targets=np.array(targets)\n",
    "\n",
    "#seperate all character with blank space\n",
    "smiles = np.array([\" \".join(list(smile)) for smile in smiles]).reshape(-1,1)\n",
    "\n"
   ]
  },
  {
   "cell_type": "markdown",
   "metadata": {},
   "source": [
    "# Define problem (objective and space)"
   ]
  },
  {
   "cell_type": "code",
   "execution_count": 5,
   "metadata": {},
   "outputs": [],
   "source": [
    "# define an objective function (to be minimized) and space \n",
    "def objective(x):\n",
    "    # return score of the molecules\n",
    "    # *-1 so we can minimize\n",
    "    return -targets[np.where(smiles==x)[0][0]]\n",
    "objective=np.vectorize(objective)\n",
    "# define search space\n",
    "space = ParameterSpace([CandidateStringParameter(\"string\",smiles)])"
   ]
  },
  {
   "cell_type": "markdown",
   "metadata": {},
   "source": [
    "# Collect initial points"
   ]
  },
  {
   "cell_type": "code",
   "execution_count": 6,
   "metadata": {},
   "outputs": [],
   "source": [
    "# collect initial design (uniform sample)\n",
    "np.random.seed(1234)\n",
    "random_design = RandomDesign(space)\n",
    "initial_points_count = 15\n",
    "X_init = random_design.get_samples(initial_points_count)\n",
    "Y_init = objective(X_init)"
   ]
  },
  {
   "cell_type": "markdown",
   "metadata": {},
   "source": [
    "# Perform BO with SSK"
   ]
  },
  {
   "cell_type": "code",
   "execution_count": 7,
   "metadata": {},
   "outputs": [
    {
     "name": "stderr",
     "output_type": "stream",
     "text": [
      "reconstraining parameters GP_regression.sk.Gap_decay\n",
      "reconstraining parameters GP_regression.sk.Match_decay\n"
     ]
    }
   ],
   "source": [
    "# build BO loop\n",
    "# fit SSK model\n",
    "# just a single restart when fitting kernel params for demo \n",
    "# (we recommend at least 3 for high performance)\n",
    "model =SSK_model(space,X_init,Y_init,max_subsequence_length=5,n_restarts=1)\n",
    "# Load core elements for Bayesian optimization\n",
    "expected_improvement = ExpectedImprovement(model)\n",
    "# use random search to optimize acqusition function\n",
    "optimizer = RandomSearchAcquisitionOptimizer(space,100)\n",
    "bayesopt_loop_ssk = BayesianOptimizationLoop(model = model, \n",
    "                                         space = space,\n",
    "                                         acquisition = expected_improvement,\n",
    "                                         acquisition_optimizer = optimizer)\n",
    "# add loop summary\n",
    "def summary(loop, loop_state):\n",
    "    print(\"Performing BO step {}\".format(loop.loop_state.iteration))\n",
    "bayesopt_loop_ssk.iteration_end_event.append(summary)"
   ]
  },
  {
   "cell_type": "code",
   "execution_count": 8,
   "metadata": {},
   "outputs": [
    {
     "name": "stdout",
     "output_type": "stream",
     "text": [
      "Optimization restart 1/1, f = 19.187225084021048\n",
      "Performing BO step 1\n",
      "Optimization restart 1/1, f = 19.467343308047404\n",
      "Performing BO step 2\n",
      "Optimization restart 1/1, f = 22.16853567860297\n",
      "Performing BO step 3\n",
      "Optimization restart 1/1, f = 22.957946170821735\n",
      "Performing BO step 4\n",
      "Optimization restart 1/1, f = 23.740146166171453\n",
      "Performing BO step 5\n",
      "Optimization restart 1/1, f = 24.650012279227404\n",
      "Performing BO step 6\n",
      "Optimization restart 1/1, f = 25.825125558890218\n",
      "Performing BO step 7\n",
      "Optimization restart 1/1, f = 26.600635185814888\n",
      "Performing BO step 8\n",
      "Optimization restart 1/1, f = 27.367796030291274\n",
      "Performing BO step 9\n",
      "Optimization restart 1/1, f = 27.823581210645568\n",
      "Performing BO step 10\n",
      "Optimization restart 1/1, f = 28.452241448965133\n",
      "Performing BO step 11\n",
      "Optimization restart 1/1, f = 29.63851308700287\n",
      "Performing BO step 12\n",
      "Optimization restart 1/1, f = 30.12760086542307\n",
      "Performing BO step 13\n",
      "Optimization restart 1/1, f = 30.387036896158225\n",
      "Performing BO step 14\n",
      "Optimization restart 1/1, f = 31.408849740378542\n",
      "Performing BO step 15\n",
      "Optimization restart 1/1, f = 32.7310902582138\n",
      "Performing BO step 16\n",
      "Optimization restart 1/1, f = 33.59423884150057\n",
      "Performing BO step 17\n",
      "Optimization restart 1/1, f = 34.277869288319046\n",
      "Performing BO step 18\n",
      "Optimization restart 1/1, f = 34.489684965117476\n",
      "Performing BO step 19\n",
      "Optimization restart 1/1, f = 35.3182101101669\n",
      "Performing BO step 20\n",
      "Optimization restart 1/1, f = 35.69676047677246\n",
      "Performing BO step 21\n",
      "Optimization restart 1/1, f = 36.50746090827994\n",
      "Performing BO step 22\n",
      "Optimization restart 1/1, f = 37.503237181579166\n",
      "Performing BO step 23\n",
      "Optimization restart 1/1, f = 38.7052583101395\n",
      "Performing BO step 24\n",
      "Optimization restart 1/1, f = 38.445264497003336\n",
      "Performing BO step 25\n",
      "Optimization restart 1/1, f = 39.42033968341819\n",
      "Performing BO step 26\n",
      "Optimization restart 1/1, f = 39.839284696159616\n",
      "Performing BO step 27\n",
      "Optimization restart 1/1, f = 41.05357364786721\n",
      "Performing BO step 28\n",
      "Optimization restart 1/1, f = 44.06296500639352\n",
      "Performing BO step 29\n",
      "Optimization restart 1/1, f = 44.64127579897662\n",
      "Performing BO step 30\n",
      "Optimization restart 1/1, f = 45.01137858182008\n",
      "Performing BO step 31\n",
      "Optimization restart 1/1, f = 46.02771353959689\n",
      "Performing BO step 32\n",
      "Optimization restart 1/1, f = 46.685767007284994\n",
      "Performing BO step 33\n",
      "Optimization restart 1/1, f = 47.70506228624588\n",
      "Performing BO step 34\n",
      "Optimization restart 1/1, f = 49.187065988609945\n",
      "Performing BO step 35\n",
      "Optimization restart 1/1, f = 49.40743252149281\n"
     ]
    }
   ],
   "source": [
    "# run BO loop for 10 steps \n",
    "stopping_condition = FixedIterationsStoppingCondition(i_max = 35) \n",
    "bayesopt_loop_ssk.run_loop(objective, stopping_condition)"
   ]
  },
  {
   "cell_type": "markdown",
   "metadata": {},
   "source": [
    "# Perform random search"
   ]
  },
  {
   "cell_type": "code",
   "execution_count": 9,
   "metadata": {},
   "outputs": [],
   "source": [
    "# also see performance of random search \n",
    "#(starting from the initialization used by the other approaches)\n",
    "np.random.seed(1234)\n",
    "Y_random=np.vstack([Y_init,objective(random_design.get_samples(35))])"
   ]
  },
  {
   "cell_type": "markdown",
   "metadata": {},
   "source": [
    "# plot results"
   ]
  },
  {
   "cell_type": "code",
   "execution_count": 10,
   "metadata": {
    "scrolled": false
   },
   "outputs": [
    {
     "data": {
      "text/plain": [
       "<matplotlib.legend.Legend at 0x7ff4269af490>"
      ]
     },
     "execution_count": 10,
     "metadata": {},
     "output_type": "execute_result"
    },
    {
     "data": {
      "image/png": "[encoded data removed]",
      "text/plain": [
       "<Figure size 432x288 with 1 Axes>"
      ]
     },
     "metadata": {
      "needs_background": "light"
     },
     "output_type": "display_data"
    }
   ],
   "source": [
    "# plot results from the two methods\n",
    "# recall that first 15 points are a random sample shared by all the methods\n",
    "plt.plot(-np.minimum.accumulate(bayesopt_loop_ssk.loop_state.Y),label=\"Split SSk\")\n",
    "plt.plot(-np.minimum.accumulate(Y_random),label=\"Random Search\")\n",
    "\n",
    "plt.ylabel('Current best')\n",
    "plt.xlabel('Iteration')\n",
    "plt.legend()"
   ]
  }
 ],
 "metadata": {
  "kernelspec": {
   "display_name": "boss",
   "language": "python",
   "name": "boss"
  },
  "language_info": {
   "codemirror_mode": {
    "name": "ipython",
    "version": 3
   },
   "file_extension": ".py",
   "mimetype": "text/x-python",
   "name": "python",
   "nbconvert_exporter": "python",
   "pygments_lexer": "ipython3",
   "version": "3.7.6"
  }
 },
 "nbformat": 4,
 "nbformat_minor": 4
}
