{
 "cells": [
  {
   "cell_type": "markdown",
   "metadata": {},
   "source": [
    "### script to apply SSK BO over an unconstrained space\n",
    "### we demonstrate on synthetic examples"
   ]
  },
  {
   "cell_type": "code",
   "execution_count": 1,
   "metadata": {},
   "outputs": [],
   "source": [
    "import numpy as np\n",
    "import emukit\n",
    "import re\n",
    "import matplotlib.pyplot as plt\n",
    "from emukit.core.initial_designs import RandomDesign\n",
    "from emukit.core import ParameterSpace\n",
    "from emukit.core.optimization import RandomSearchAcquisitionOptimizer\n",
    "from emukit.bayesian_optimization.loops import BayesianOptimizationLoop\n",
    "from emukit.bayesian_optimization.acquisitions import ExpectedImprovement\n",
    "from emukit.core.loop import FixedIterationsStoppingCondition\n",
    "import warnings\n",
    "warnings.filterwarnings('ignore')"
   ]
  },
  {
   "cell_type": "code",
   "execution_count": 2,
   "metadata": {},
   "outputs": [],
   "source": [
    "#import our code\n",
    "from boss.code.parameters.string_parameter import StringParameter\n",
    "from boss.code.optimizers.StringGeneticAlgorithmAcquisitionOptimizer import StringGeneticProgrammingOptimizer\n",
    "from boss.code.emukit_models.emukit_bow_model import BOW_model\n",
    "from boss.code.emukit_models.emukit_linear_model import linear_model\n",
    "from boss.code.emukit_models.emukit_ssk_model import SSK_model"
   ]
  },
  {
   "cell_type": "markdown",
   "metadata": {},
   "source": [
    "# Define problem (objective and space)"
   ]
  },
  {
   "cell_type": "code",
   "execution_count": 3,
   "metadata": {},
   "outputs": [],
   "source": [
    "# define an objective function (to be minimized) and space \n",
    "def objective(x):\n",
    "    # count number of occurences of target substring\n",
    "    # *-1 so we can minimize\n",
    "    return -len(re.findall('(?=1 0 1)', x))\n",
    "objective=np.vectorize(objective)\n",
    "# define search space\n",
    "space = ParameterSpace([StringParameter(\"string\",length=20,alphabet=[\"0\",\"1\"])])"
   ]
  },
  {
   "cell_type": "markdown",
   "metadata": {},
   "source": [
    "### Alternative Problems (from Moss et al 2020)"
   ]
  },
  {
   "cell_type": "code",
   "execution_count": 4,
   "metadata": {},
   "outputs": [],
   "source": [
    "#############\n",
    "# def objective(x):\n",
    "#     # count number of occurences of target string\n",
    "#     return -len(re.findall('(?=0 1 . . 4)', x))\n",
    "# objective=np.vectorize(objective)\n",
    "# space = ParameterSpace([StringParameter(\"string\",length=20,alphabet=[\"0\",\"1\",\"2\",\"3\",\"4\"])])\n",
    "#############\n",
    "\n",
    "#############\n",
    "# def objective(x):\n",
    "#     # count number of occurences of target string\n",
    "#     return -x.count(\"1 0 1\")\n",
    "# objective=np.vectorize(objective)\n",
    "# space = ParameterSpace([StringParameter(\"string\",length=20,alphabet=[\"0\",\"1\"])])\n",
    "#############\n",
    "\n",
    "#############\n",
    "# def objective(x):\n",
    "#     # count number of occurences of target string\n",
    "#     return -len(re.findall('(?=1 0 . . 1)', x))\n",
    "# objective=np.vectorize(objective)\n",
    "# space = ParameterSpace([StringParameter(\"string\",length=20,alphabet=[\"0\",\"1\"])])\n",
    "#############\n",
    "\n",
    "#############\n",
    "# def objective(x):\n",
    "#     # count number of occurences of target string\n",
    "#     return -x[:30].count(\"1 0 1\")\n",
    "# objective=np.vectorize(objective)\n",
    "# space = ParameterSpace([StringParameter(\"string\",length=30,alphabet=[\"0\",\"1\"])])\n",
    "#############\n",
    "\n",
    "#############\n",
    "# def objective(x):\n",
    "#     # count number of occurences of target string\n",
    "#     return -x.count(\"1 2 3\")\n",
    "# objective=np.vectorize(objective)\n",
    "# space = ParameterSpace([StringParameter(\"string\",length=30,alphabet=[\"0\",\"1\",\"2\",\"3\"])])\n",
    "#############"
   ]
  },
  {
   "cell_type": "markdown",
   "metadata": {},
   "source": [
    "# Collect initial points"
   ]
  },
  {
   "cell_type": "code",
   "execution_count": 5,
   "metadata": {},
   "outputs": [],
   "source": [
    "# collect initial design (uniform sample)\n",
    "np.random.seed(42)\n",
    "random_design = RandomDesign(space)\n",
    "initial_points_count = 5\n",
    "X_init = random_design.get_samples(initial_points_count)\n",
    "Y_init = objective(X_init)"
   ]
  },
  {
   "cell_type": "markdown",
   "metadata": {},
   "source": [
    "# Perform BO on BOW representation"
   ]
  },
  {
   "cell_type": "code",
   "execution_count": 6,
   "metadata": {},
   "outputs": [
    {
     "name": "stdout",
     "output_type": "stream",
     "text": [
      "Optimization restart 1/1, f = 6.428334958890596\n"
     ]
    }
   ],
   "source": [
    "# build BO loop\n",
    "# fit bag-of-words (BOW) model\n",
    "model = BOW_model(space,X_init,Y_init,max_feature_length=5)\n",
    "# Load core elements for Bayesian optimization\n",
    "expected_improvement = ExpectedImprovement(model)\n",
    "# either use genetic algorithm or random search to optimize acqusition function\n",
    "optimizer =  StringGeneticProgrammingOptimizer(space,dynamic=True,population_size=100,tournament_prob=0.5,p_crossover= 0.8, p_mutation=0.1)\n",
    "# optimizer = RandomSearchAcquisitionOptimizer(space,10000)\n",
    "bayesopt_loop_BOW = BayesianOptimizationLoop(model = model, \n",
    "                                         space = space,\n",
    "                                         acquisition = expected_improvement,\n",
    "                                         acquisition_optimizer = optimizer)\n",
    "# add loop summary\n",
    "def summary(loop, loop_state):\n",
    "    print(\"Performing BO step {}\".format(loop.loop_state.iteration))\n",
    "bayesopt_loop_BOW.iteration_end_event.append(summary)"
   ]
  },
  {
   "cell_type": "code",
   "execution_count": 7,
   "metadata": {},
   "outputs": [
    {
     "name": "stdout",
     "output_type": "stream",
     "text": [
      "Optimization restart 1/1, f = 6.428334958890596\n",
      "Performing BO step 1\n",
      "Optimization restart 1/1, f = 6.7980079187152\n",
      "Performing BO step 2\n",
      "Optimization restart 1/1, f = 7.359950429243855\n",
      "Performing BO step 3\n",
      "Optimization restart 1/1, f = 8.473684827186638\n",
      "Performing BO step 4\n",
      "Optimization restart 1/1, f = 11.405814906334118\n",
      "Performing BO step 5\n",
      "Optimization restart 1/1, f = 9.817459666618856\n",
      "Performing BO step 6\n",
      "Optimization restart 1/1, f = 10.92919947705866\n",
      "Performing BO step 7\n",
      "Optimization restart 1/1, f = 12.082835378571552\n",
      "Performing BO step 8\n",
      "Optimization restart 1/1, f = 12.959750834529313\n",
      "Performing BO step 9\n",
      "Optimization restart 1/1, f = 11.35730438259054\n",
      "Performing BO step 10\n",
      "Optimization restart 1/1, f = 9.626943634764245\n"
     ]
    }
   ],
   "source": [
    "np.random.seed(42)\n",
    "# run BO loop for 10 steps \n",
    "stopping_condition = FixedIterationsStoppingCondition(i_max = 10) \n",
    "bayesopt_loop_BOW.run_loop(objective, stopping_condition)"
   ]
  },
  {
   "cell_type": "markdown",
   "metadata": {},
   "source": [
    "# Perform BO on linear representation"
   ]
  },
  {
   "cell_type": "code",
   "execution_count": 8,
   "metadata": {},
   "outputs": [
    {
     "name": "stdout",
     "output_type": "stream",
     "text": [
      "Optimization restart 1/1, f = 7.354567512946845\n"
     ]
    }
   ],
   "source": [
    "# build BO loop\n",
    "# fit linear GP model\n",
    "model = linear_model(space,X_init,Y_init)\n",
    "# Load core elements for Bayesian optimization\n",
    "expected_improvement = ExpectedImprovement(model)\n",
    "# either use genetic algorithm or random search to optimize acqusition function\n",
    "optimizer =  StringGeneticProgrammingOptimizer(space,dynamic=True,population_size=100,tournament_prob=0.5,p_crossover= 0.8, p_mutation=0.1)\n",
    "# optimizer = RandomSearchAcquisitionOptimizer(space,10000)\n",
    "bayesopt_loop_linear= BayesianOptimizationLoop(model = model, \n",
    "                                         space = space,\n",
    "                                         acquisition = expected_improvement,\n",
    "                                         acquisition_optimizer = optimizer)\n",
    "# add loop summary\n",
    "bayesopt_loop_linear.iteration_end_event.append(summary)"
   ]
  },
  {
   "cell_type": "code",
   "execution_count": 9,
   "metadata": {},
   "outputs": [
    {
     "name": "stdout",
     "output_type": "stream",
     "text": [
      "Optimization restart 1/1, f = 7.354567512946845\n",
      "Performing BO step 1\n",
      "Optimization restart 1/1, f = 7.244226033132796\n",
      "Performing BO step 2\n",
      "Optimization restart 1/1, f = 10.090106615533763\n",
      "Performing BO step 3\n",
      "Optimization restart 1/1, f = 11.169150410614439\n",
      "Performing BO step 4\n",
      "Optimization restart 1/1, f = 15.270372052270574\n",
      "Performing BO step 5\n",
      "Optimization restart 1/1, f = 18.200635260945802\n",
      "Performing BO step 6\n",
      "Optimization restart 1/1, f = 27.332695589160824\n",
      "Performing BO step 7\n",
      "Optimization restart 1/1, f = 36.474998748437514\n",
      "Performing BO step 8\n",
      "Optimization restart 1/1, f = 43.679390877014995\n",
      "Performing BO step 9\n",
      "Optimization restart 1/1, f = 56.853435195630055\n",
      "Performing BO step 10\n",
      "Optimization restart 1/1, f = 72.83438806959192\n"
     ]
    }
   ],
   "source": [
    "np.random.seed(42)\n",
    "# run BO loop for 10 steps \n",
    "stopping_condition = FixedIterationsStoppingCondition(i_max = 10) \n",
    "bayesopt_loop_linear.run_loop(objective, stopping_condition)"
   ]
  },
  {
   "cell_type": "markdown",
   "metadata": {},
   "source": [
    "# Perform BO on SSK"
   ]
  },
  {
   "cell_type": "code",
   "execution_count": 10,
   "metadata": {},
   "outputs": [
    {
     "name": "stderr",
     "output_type": "stream",
     "text": [
      "reconstraining parameters GP_regression.sk.Gap_decay\n",
      "reconstraining parameters GP_regression.sk.Match_decay\n"
     ]
    }
   ],
   "source": [
    "# build BO loop\n",
    "# fit SSK model\n",
    "model = SSK_model(space,X_init,Y_init,max_subsequence_length=5)\n",
    "# Load core elements for Bayesian optimization\n",
    "expected_improvement = ExpectedImprovement(model)\n",
    "# either use genetic algorithm or random search to optimize acqusition function\n",
    "optimizer =  StringGeneticProgrammingOptimizer(space,dynamic=True,population_size=100,tournament_prob=0.5,p_crossover= 0.8, p_mutation=0.1)\n",
    "# optimizer = RandomSearchAcquisitionOptimizer(space,10000)\n",
    "bayesopt_loop_SSK= BayesianOptimizationLoop(model = model, \n",
    "                                         space = space,\n",
    "                                         acquisition = expected_improvement,\n",
    "                                         acquisition_optimizer = optimizer)\n",
    "# add loop summary\n",
    "bayesopt_loop_SSK.iteration_end_event.append(summary)"
   ]
  },
  {
   "cell_type": "code",
   "execution_count": 11,
   "metadata": {
    "scrolled": true
   },
   "outputs": [
    {
     "name": "stdout",
     "output_type": "stream",
     "text": [
      "Optimization restart 1/3, f = 12.844396065753829\n",
      "Optimization restart 2/3, f = 12.844397906639822\n",
      "Optimization restart 3/3, f = 12.844396695150055\n",
      "Performing BO step 1\n",
      "Optimization restart 1/3, f = 10.499674724128472\n",
      "Optimization restart 2/3, f = 10.499675174656087\n",
      "Optimization restart 3/3, f = 10.499675185370673\n",
      "Performing BO step 2\n",
      "Optimization restart 1/3, f = 8.264102743627017\n",
      "Optimization restart 2/3, f = 8.2641027628443\n",
      "Optimization restart 3/3, f = 8.264102735554125\n",
      "Performing BO step 3\n",
      "Optimization restart 1/3, f = 6.32914980360281\n",
      "Optimization restart 2/3, f = 6.329158488297537\n",
      "Optimization restart 3/3, f = 6.329155498867808\n",
      "Performing BO step 4\n",
      "Optimization restart 1/3, f = 4.028157095638006\n",
      "Optimization restart 2/3, f = 4.028165424679196\n",
      "Optimization restart 3/3, f = 4.028162297487814\n",
      "Performing BO step 5\n",
      "Optimization restart 1/3, f = 2.281231908589832\n",
      "Optimization restart 2/3, f = 2.2812399579240044\n",
      "Optimization restart 3/3, f = 2.2812319730278494\n",
      "Performing BO step 6\n",
      "Optimization restart 1/3, f = 0.806821523894385\n",
      "Optimization restart 2/3, f = 0.8068222143383039\n",
      "Optimization restart 3/3, f = 0.8068252237509483\n",
      "Performing BO step 7\n",
      "Optimization restart 1/3, f = 2.2170716407663225\n",
      "Optimization restart 2/3, f = 87.72726311940922\n",
      "Optimization restart 3/3, f = 2.2170759366050543\n",
      "Performing BO step 8\n",
      "Optimization restart 1/3, f = 2.800368183919643\n",
      "Optimization restart 2/3, f = 2.800370045774171\n",
      "Optimization restart 3/3, f = 2.800369693038185\n",
      "Performing BO step 9\n",
      "Optimization restart 1/3, f = 7.571631377430695\n",
      "Optimization restart 2/3, f = 7.523215229146803\n",
      "Optimization restart 3/3, f = 7.523221883413225\n",
      "Performing BO step 10\n",
      "Optimization restart 1/3, f = 9.45001842389024\n",
      "Optimization restart 2/3, f = 9.449968866123958\n",
      "Optimization restart 3/3, f = 9.45001842731162\n"
     ]
    }
   ],
   "source": [
    "np.random.seed(42)\n",
    "# run BO loop for 10 steps \n",
    "stopping_condition = FixedIterationsStoppingCondition(i_max = 10) \n",
    "bayesopt_loop_SSK.run_loop(objective, stopping_condition)"
   ]
  },
  {
   "cell_type": "markdown",
   "metadata": {},
   "source": [
    "# Perform random search"
   ]
  },
  {
   "cell_type": "code",
   "execution_count": 14,
   "metadata": {},
   "outputs": [],
   "source": [
    "np.random.seed(42)\n",
    "# also see performance of random search \n",
    "#(starting from the initialization used by the other approaches)\n",
    "Y_random=np.vstack([Y_init,objective(random_design.get_samples(10))])"
   ]
  },
  {
   "cell_type": "markdown",
   "metadata": {},
   "source": [
    "# plot results"
   ]
  },
  {
   "cell_type": "code",
   "execution_count": 17,
   "metadata": {
    "scrolled": false
   },
   "outputs": [
    {
     "data": {
      "text/plain": [
       "<matplotlib.legend.Legend at 0x7f4eaac7fa50>"
      ]
     },
     "execution_count": 17,
     "metadata": {},
     "output_type": "execute_result"
    },
    {
     "data": {
      "image/png": "[encoded data removed]",
      "text/plain": [
       "<Figure size 432x288 with 1 Axes>"
      ]
     },
     "metadata": {
      "needs_background": "light"
     },
     "output_type": "display_data"
    }
   ],
   "source": [
    "# plot results from 4 methods\n",
    "# recall that first 5 points are a random sample shared by all the methods\n",
    "plt.plot(-np.minimum.accumulate(bayesopt_loop_BOW.loop_state.Y),label=\"BOW\")\n",
    "plt.plot(-np.minimum.accumulate(bayesopt_loop_linear.loop_state.Y),label=\"Linear\")\n",
    "plt.plot(-np.minimum.accumulate(bayesopt_loop_SSK.loop_state.Y),label=\"SSk\")\n",
    "plt.plot(-np.minimum.accumulate(Y_random),label=\"Random Search\")\n",
    "\n",
    "plt.ylabel('Current best')\n",
    "plt.xlabel('Iteration')\n",
    "plt.legend()"
   ]
  }
 ],
 "metadata": {
  "kernelspec": {
   "display_name": "boss",
   "language": "python",
   "name": "boss"
  },
  "language_info": {
   "codemirror_mode": {
    "name": "ipython",
    "version": 3
   },
   "file_extension": ".py",
   "mimetype": "text/x-python",
   "name": "python",
   "nbconvert_exporter": "python",
   "pygments_lexer": "ipython3",
   "version": "3.7.6"
  }
 },
 "nbformat": 4,
 "nbformat_minor": 4
}
