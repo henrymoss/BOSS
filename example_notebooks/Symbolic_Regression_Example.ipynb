{
 "cells": [
  {
   "cell_type": "markdown",
   "metadata": {},
   "source": [
    "### script to apply SSK BO over an space with context free grammar constraints\n",
    "### we demonstrate on symbolic regression task"
   ]
  },
  {
   "cell_type": "code",
   "execution_count": 1,
   "metadata": {},
   "outputs": [],
   "source": [
    "import numpy as np\n",
    "from numpy import *\n",
    "import emukit\n",
    "import re\n",
    "import matplotlib.pyplot as plt\n",
    "from emukit.core.initial_designs import RandomDesign\n",
    "from emukit.core import ParameterSpace\n",
    "from emukit.core.optimization import RandomSearchAcquisitionOptimizer\n",
    "from emukit.bayesian_optimization.loops import BayesianOptimizationLoop\n",
    "from emukit.bayesian_optimization.acquisitions import ExpectedImprovement\n",
    "from emukit.core.loop import FixedIterationsStoppingCondition\n",
    "import warnings\n",
    "warnings.filterwarnings('ignore')"
   ]
  },
  {
   "cell_type": "code",
   "execution_count": 3,
   "metadata": {},
   "outputs": [],
   "source": [
    "#import our code\n",
    "from boss.code.CFG.CFG import Grammar\n",
    "from boss.code.parameters.cfg_parameter import CFGParameter\n",
    "from boss.code.parameters.cfg_parameter import unparse\n",
    "from boss.code.optimizers.GrammarGeneticAlgorithmAcquisitionOptimizer import GrammarGeneticProgrammingOptimizer\n",
    "from boss.code.emukit_models.emukit_ssk_model import SSK_model"
   ]
  },
  {
   "cell_type": "markdown",
   "metadata": {},
   "source": [
    "# Define problem (objective and space)"
   ]
  },
  {
   "cell_type": "code",
   "execution_count": 4,
   "metadata": {},
   "outputs": [],
   "source": [
    "# define grammar rules\n",
    "\n",
    "\t# define our arithmetic grammar\n",
    "# note that we have to map ( -> lb and ) -> rb\n",
    "# as the tree kernel reads these sybmols to seperate branches\n",
    "\n",
    "# also require 'dummy' productions for arithmetic expressions\n",
    "# as our parser in the kernel requires all terminal nodes to be connected to a single node\n",
    "# e.g.\n",
    "#         S\n",
    "#      /  |  \\\n",
    "#     S  ADD  T\n",
    "#     |   |   |\n",
    "#     T  \"a\" \"1\"\n",
    "#     |\n",
    "#   \"x\"   \n",
    "# is the string \"x + 1\"\n",
    "# and is represented as '(S (S (T x)) (ADD a) (T 1))'\n",
    "\n",
    "grammar = Grammar.fromstring(\"\"\"\n",
    " S -> S ADD T | S TIMES T | S DIVIDE T | T\n",
    " T -> LB S RB | SIN S RB | EXP S RB\n",
    " ADD -> \"+\"\n",
    " TIMES -> \"*\"\n",
    " DIVIDE -> \"/\"\n",
    " LB -> \"lb\"\n",
    " RB -> \"rb\"\n",
    " SIN -> \"sin\"\n",
    " EXP -> \"exp\"\n",
    " T -> \"x\" | \"1\" | \"2\" | \"3\"\n",
    " \"\"\")"
   ]
  },
  {
   "cell_type": "code",
   "execution_count": 5,
   "metadata": {},
   "outputs": [],
   "source": [
    "# True expression\n",
    "# This is the target expression that we wish to learn\n",
    "true = '1/3+x+sin(x*x)'\n",
    "x = np.linspace(-10,10,1000)\n",
    "y = np.array(eval(true)) \n",
    "# Objective function\n",
    "# we wish to find symbolic expressions X that are close in MSE error between X(x) and true y\n",
    "#\n",
    "# Following Grammar VAE paper we put in a hard limit on worse MSE \n",
    "# and optimize log(1+MSE), as exponential terms in expressions can give\n",
    "# large MSE, which are hard to model with a GP\n",
    "\n",
    "def objective(X):\n",
    "    #X needs to come in as a 2d numpy array in raw form '3*x+2' \n",
    "    X=np.atleast_2d(X)\n",
    "    f_evals=np.zeros((X.shape[0],1))\n",
    "    for i in range(X.shape[0]):\n",
    "        # format correctly for numpy\n",
    "        string = X[i][0]\n",
    "        string = string.replace(\" \",\"\")\n",
    "        string = string.replace(\"lb\",\"(\")\n",
    "        string = string.replace(\"rb\",\")\")\n",
    "        string = string.replace(\"exp\",\"exp(\")\n",
    "        string = string.replace(\"sin\",\"sin(\")\n",
    "        # hard limit of 1000\n",
    "        result = np.log(1+np.minimum(np.mean((np.array(eval(string)) - y)**2), 1000))\n",
    "        if np.isnan(result):\n",
    "        \tresult = np.log(1+1000)\n",
    "        f_evals[i] = result\n",
    "    # return log(1+MSE) of each input X\n",
    "    return f_evals\n",
    "\n",
    "# define search space (length refers to number of terminals in strings)\n",
    "length=20\n",
    "min_length=3\n",
    "space = ParameterSpace([CFGParameter(\"grammar\",grammar,max_length=length,min_length=min_length)])"
   ]
  },
  {
   "cell_type": "markdown",
   "metadata": {},
   "source": [
    "# Collect initial points"
   ]
  },
  {
   "cell_type": "code",
   "execution_count": 6,
   "metadata": {},
   "outputs": [],
   "source": [
    "# collect initial design (uniform sample)\n",
    "np.random.seed(123)\n",
    "random_design = RandomDesign(space)\n",
    "initial_points_count = 15\n",
    "X_init = random_design.get_samples(initial_points_count)\n",
    "X_init_strings = unparse(X_init)\n",
    "Y_init = objective(X_init_strings)"
   ]
  },
  {
   "cell_type": "markdown",
   "metadata": {},
   "source": [
    "# Explain Methods"
   ]
  },
  {
   "cell_type": "code",
   "execution_count": null,
   "metadata": {},
   "outputs": [],
   "source": [
    "# we perform optimziation using our SSK-approach and random search\n",
    "# VAE baselines are availible for Grammar VAEs and Character VAES at https://github.com/mkusner/grammarVAE"
   ]
  },
  {
   "cell_type": "markdown",
   "metadata": {},
   "source": [
    "# 1) Perform BO with SSK"
   ]
  },
  {
   "cell_type": "code",
   "execution_count": 7,
   "metadata": {},
   "outputs": [
    {
     "name": "stderr",
     "output_type": "stream",
     "text": [
      "reconstraining parameters GP_regression.sk.Gap_decay\n",
      "reconstraining parameters GP_regression.sk.Match_decay\n"
     ]
    }
   ],
   "source": [
    "# build BO loop\n",
    "# fit SSK model\n",
    "# just a single restart when fitting kernel params for demo \n",
    "model = SSK_model(space,X_init_strings,Y_init,max_subsequence_length=5,n_restarts=3)\n",
    "# Load core elements for Bayesian optimization\n",
    "expected_improvement = ExpectedImprovement(model)\n",
    "# either use genetic algorithm or random search to optimize acqusition function\n",
    "optimizer =  GrammarGeneticProgrammingOptimizer(space,dynamic=True,population_size=100,tournament_prob=0.5,p_crossover= 0.8, p_mutation=0.1)\n",
    "# optimizer = RandomSearchAcquisitionOptimizer(space,10000)\n",
    "bayesopt_loop_SSK= BayesianOptimizationLoop(model = model, \n",
    "                                         space = space,\n",
    "                                         acquisition = expected_improvement,\n",
    "                                         acquisition_optimizer = optimizer)\n",
    "# add loop summary\n",
    "def summary(loop, loop_state):\n",
    "    print(\"Performing BO step {}\".format(loop.loop_state.iteration))\n",
    "bayesopt_loop_SSK.iteration_end_event.append(summary)"
   ]
  },
  {
   "cell_type": "code",
   "execution_count": null,
   "metadata": {
    "scrolled": true
   },
   "outputs": [
    {
     "name": "stdout",
     "output_type": "stream",
     "text": [
      "Optimization restart 1/3, f = 22.407539932552716\n",
      "Optimization restart 2/3, f = 22.407541088667664\n",
      "Optimization restart 3/3, f = 22.407539246018814\n",
      "Performing BO step 1\n",
      "Optimization restart 1/3, f = 22.844085582090226\n",
      "Optimization restart 2/3, f = 22.844090496401268\n",
      "Optimization restart 3/3, f = 22.84408945258417\n",
      "Performing BO step 2\n",
      "Optimization restart 1/3, f = 25.45547072205934\n",
      "Optimization restart 2/3, f = 25.45547270865916\n",
      "Optimization restart 3/3, f = 25.45546834556673\n",
      "Performing BO step 3\n",
      "Optimization restart 1/3, f = 27.891916954918905\n",
      "Optimization restart 2/3, f = 27.891918624426403\n",
      "Optimization restart 3/3, f = 27.891918237075714\n",
      "Performing BO step 4\n",
      "Optimization restart 1/3, f = 28.36068739009751\n",
      "Optimization restart 2/3, f = 28.36069096042931\n",
      "Optimization restart 3/3, f = 28.360690144347096\n",
      "Performing BO step 5\n",
      "Optimization restart 1/3, f = 27.795573591637265\n",
      "Optimization restart 2/3, f = 27.795584862375513\n",
      "Optimization restart 3/3, f = 27.795588370002662\n",
      "Performing BO step 6\n",
      "Optimization restart 1/3, f = 30.05913036934423\n",
      "Optimization restart 2/3, f = 30.05913783260165\n",
      "Optimization restart 3/3, f = 30.059138707694107\n",
      "Performing BO step 7\n",
      "Optimization restart 1/3, f = 29.52522574502033\n",
      "Optimization restart 2/3, f = 29.52524179501416\n",
      "Optimization restart 3/3, f = 29.525237026609037\n",
      "Performing BO step 8\n",
      "Optimization restart 1/3, f = 32.6119626122089\n",
      "Optimization restart 2/3, f = 32.61196817052139\n",
      "Optimization restart 3/3, f = 32.61197152233436\n",
      "Performing BO step 9\n",
      "Optimization restart 1/3, f = 32.020471491491094\n",
      "Optimization restart 2/3, f = 32.02048192706627\n",
      "Optimization restart 3/3, f = 32.02048128241428\n",
      "Performing BO step 10\n",
      "Optimization restart 1/3, f = 33.0592748353116\n",
      "Optimization restart 2/3, f = 33.05928221455416\n",
      "Optimization restart 3/3, f = 33.05928857635466\n",
      "Performing BO step 11\n",
      "Optimization restart 1/3, f = 39.08270833934611\n",
      "Optimization restart 2/3, f = 39.082628061035436\n",
      "Optimization restart 3/3, f = 39.08262437637987\n",
      "Performing BO step 12\n",
      "Optimization restart 1/3, f = 38.78829772336673\n",
      "Optimization restart 2/3, f = 38.78829801618771\n",
      "Optimization restart 3/3, f = 38.78830241334978\n",
      "Performing BO step 13\n",
      "Optimization restart 1/3, f = 38.30064731850926\n",
      "Optimization restart 2/3, f = 38.300646143306764\n",
      "Optimization restart 3/3, f = 38.300646705761665\n",
      "Performing BO step 14\n",
      "Optimization restart 1/3, f = 38.00366260348074\n",
      "Optimization restart 2/3, f = 38.0036670573402\n",
      "Optimization restart 3/3, f = 38.00369516422256\n",
      "Performing BO step 15\n",
      "Optimization restart 1/3, f = 38.40152387014632\n",
      "Optimization restart 2/3, f = 38.401524153733256\n",
      "Optimization restart 3/3, f = 38.40152770925758\n",
      "Performing BO step 16\n",
      "Optimization restart 1/3, f = 38.56456450001782\n",
      "Optimization restart 2/3, f = 38.56456507672526\n",
      "Optimization restart 3/3, f = 38.564564581285495\n",
      "Performing BO step 17\n",
      "Optimization restart 1/3, f = 38.470347868795216\n",
      "Optimization restart 2/3, f = 38.47034882769083\n",
      "Optimization restart 3/3, f = 38.4703482498679\n",
      "Performing BO step 18\n",
      "Optimization restart 1/3, f = 38.08367864572022\n",
      "Optimization restart 2/3, f = 38.08368135130385\n",
      "Optimization restart 3/3, f = 38.08367866725636\n",
      "Performing BO step 19\n",
      "Optimization restart 1/3, f = 38.58894287456099\n",
      "Optimization restart 2/3, f = 38.58894794101097\n",
      "Optimization restart 3/3, f = 38.588948321743274\n",
      "Performing BO step 20\n",
      "Optimization restart 1/3, f = 39.74195073070776\n",
      "Optimization restart 2/3, f = 39.741950834091156\n",
      "Optimization restart 3/3, f = 39.74195661040649\n",
      "Performing BO step 21\n",
      "Optimization restart 1/3, f = 39.47905546549536\n",
      "Optimization restart 2/3, f = 39.47905665034979\n",
      "Optimization restart 3/3, f = 39.479060985458105\n",
      "Performing BO step 22\n",
      "Optimization restart 1/3, f = 39.914515131108864\n",
      "Optimization restart 2/3, f = 39.91451822177915\n",
      "Optimization restart 3/3, f = 39.91451519637498\n",
      "Performing BO step 23\n",
      "Optimization restart 1/3, f = 40.073208054315224\n",
      "Optimization restart 2/3, f = 40.073208754533674\n",
      "Optimization restart 3/3, f = 40.07320818264972\n",
      "Performing BO step 24\n",
      "Optimization restart 1/3, f = 40.21976724875406\n",
      "Optimization restart 2/3, f = 40.219767390997625\n",
      "Optimization restart 3/3, f = 40.219768259248575\n"
     ]
    }
   ],
   "source": [
    "# run BO loop for 25 steps \n",
    "np.random.seed(123)\n",
    "stopping_condition = FixedIterationsStoppingCondition(i_max = 25) \n",
    "bayesopt_loop_SSK.run_loop(objective, stopping_condition)"
   ]
  },
  {
   "cell_type": "markdown",
   "metadata": {},
   "source": [
    "# Perform random search"
   ]
  },
  {
   "cell_type": "code",
   "execution_count": null,
   "metadata": {},
   "outputs": [],
   "source": [
    "# also see performance of random search \n",
    "#(starting from the initialization used by the other approaches)\n",
    "np.random.seed(123)\n",
    "Y_random=np.vstack([Y_init,objective(unparse(random_design.get_samples(25)))])"
   ]
  },
  {
   "cell_type": "markdown",
   "metadata": {},
   "source": [
    "# plot results"
   ]
  },
  {
   "cell_type": "code",
   "execution_count": null,
   "metadata": {
    "scrolled": false
   },
   "outputs": [],
   "source": [
    "# plot results \n",
    "# recall that first 15 points are a random sample shared by all the methods\n",
    "plt.plot(np.minimum.accumulate(bayesopt_loop_SSK.loop_state.Y),label=\"SSk\")\n",
    "plt.plot(np.minimum.accumulate(Y_random),label=\"Random Search\")\n",
    "plt.yscale(\"log\")\n",
    "plt.ylabel('Current best score')\n",
    "plt.xlabel('Iteration')\n",
    "plt.legend()"
   ]
  }
 ],
 "metadata": {
  "kernelspec": {
   "display_name": "boss",
   "language": "python",
   "name": "boss"
  },
  "language_info": {
   "codemirror_mode": {
    "name": "ipython",
    "version": 3
   },
   "file_extension": ".py",
   "mimetype": "text/x-python",
   "name": "python",
   "nbconvert_exporter": "python",
   "pygments_lexer": "ipython3",
   "version": "3.7.3"
  }
 },
 "nbformat": 4,
 "nbformat_minor": 4
}
