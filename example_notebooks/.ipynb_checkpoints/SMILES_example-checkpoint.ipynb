{
 "cells": [
  {
   "cell_type": "code",
   "execution_count": 1,
   "metadata": {},
   "outputs": [],
   "source": [
    "# script to apply SSK BO over a set of candidate strings\n",
    "# we demonstrate on the task of finding moelcules (represented by SMILES string)\n",
    "# that have a high molecule sc"
   ]
  },
  {
   "cell_type": "code",
   "execution_count": 2,
   "metadata": {},
   "outputs": [],
   "source": [
    "import numpy as np\n",
    "import pickle\n",
    "import gzip\n",
    "import emukit\n",
    "import re\n",
    "import matplotlib.pyplot as plt\n",
    "from emukit.core.initial_designs import RandomDesign\n",
    "from emukit.core import ParameterSpace\n",
    "from emukit.core.optimization import RandomSearchAcquisitionOptimizer\n",
    "from emukit.bayesian_optimization.loops import BayesianOptimizationLoop\n",
    "from emukit.bayesian_optimization.acquisitions import ExpectedImprovement\n",
    "from emukit.core.loop import FixedIterationsStoppingCondition\n"
   ]
  },
  {
   "cell_type": "code",
   "execution_count": 3,
   "metadata": {},
   "outputs": [],
   "source": [
    "%load_ext autoreload\n",
    "%autoreload 2"
   ]
  },
  {
   "cell_type": "code",
   "execution_count": 4,
   "metadata": {},
   "outputs": [
    {
     "name": "stderr",
     "output_type": "stream",
     "text": [
      " /home/mossh/StringBO/StringBO/stringbo/code/kernels/string/numba_string_kernel.py:227: NumbaPerformanceWarning:np.dot() is faster on contiguous arrays, called on (array(float64, 2d, C), array(float64, 2d, A))\n",
      " /home/mossh/StringBO/StringBO/stringbo/code/kernels/string/numba_string_kernel.py:229: NumbaPerformanceWarning:np.dot() is faster on contiguous arrays, called on (array(float64, 2d, F), array(float64, 2d, A))\n",
      " /home/mossh/StringBO/StringBO/stringbo/code/kernels/string/numba_string_kernel.py:232: NumbaPerformanceWarning:np.dot() is faster on contiguous arrays, called on (array(float64, 2d, C), array(float64, 2d, A))\n",
      " /home/mossh/StringBO/StringBO/stringbo/code/kernels/string/numba_string_kernel.py:247: NumbaPerformanceWarning:np.dot() is faster on contiguous arrays, called on (array(float64, 1d, C), array(float64, 1d, A))\n"
     ]
    }
   ],
   "source": [
    "#import our code\n",
    "from stringbo.code.parameters.candidate_parameter import CandidateStringParameter\n",
    "from stringbo.code.optimizers.StringGeneticAlgorithmAcquisitionOptimizer import StringGeneticProgrammingOptimizer\n",
    "from stringbo.code.emukit_models.emukit_bow_model import BOW_model\n",
    "from stringbo.code.emukit_models.emukit_linear_model import linear_model\n",
    "from stringbo.code.emukit_models.emukit_ssk_model import SSK_model"
   ]
  },
  {
   "cell_type": "markdown",
   "metadata": {},
   "source": [
    "# Collect candidate strings "
   ]
  },
  {
   "cell_type": "code",
   "execution_count": 65,
   "metadata": {},
   "outputs": [],
   "source": [
    "# get 250,000 candidate molecules\n",
    "file = gzip.GzipFile(\"../example_data/SMILES/SMILES.gzip\", 'rb')\n",
    "data = file.read()\n",
    "smiles_full = pickle.loads(data)\n",
    "file.close()\n",
    "# get their scores\n",
    "file = gzip.GzipFile(\"../example_data/SMILES/TARGETS.gzip\", 'rb')\n",
    "data = file.read()\n",
    "targets_full = pickle.loads(data)\n",
    "file.close()\n",
    "# for tutorial only keep strings <40 length (for quick SSK)\n",
    "smiles=[]\n",
    "targets=[]\n",
    "for i in range(0,len(smiles_full)):\n",
    "    if len(smiles_full[i])<40:\n",
    "        smiles.append(smiles_full[i])\n",
    "        targets.append(targets_full[i])\n",
    "smiles=np.array(smiles)\n",
    "targets=np.array(targets)\n",
    "\n",
    "#seperate all character with blank space\n",
    "smiles = np.array([\" \".join(list(smile)) for smile in smiles]).reshape(-1,1)\n",
    "\n"
   ]
  },
  {
   "cell_type": "markdown",
   "metadata": {},
   "source": [
    "# Define problem (objective and space)"
   ]
  },
  {
   "cell_type": "code",
   "execution_count": 68,
   "metadata": {},
   "outputs": [],
   "source": [
    "# define an objective function (to be minimized) and space \n",
    "def objective(x):\n",
    "    # return score of the molecules\n",
    "    # *-1 so we can minimize\n",
    "    return -targets[np.where(smiles==x)[0][0]]\n",
    "objective=np.vectorize(objective)\n",
    "# define search space\n",
    "space = ParameterSpace([CandidateStringParameter(\"string\",smiles)])"
   ]
  },
  {
   "cell_type": "markdown",
   "metadata": {},
   "source": [
    "# Collect initial points"
   ]
  },
  {
   "cell_type": "code",
   "execution_count": 83,
   "metadata": {},
   "outputs": [],
   "source": [
    "# collect initial design (uniform sample)\n",
    "np.random.seed(1234)\n",
    "random_design = RandomDesign(space)\n",
    "initial_points_count = 15\n",
    "X_init = random_design.get_samples(initial_points_count)\n",
    "Y_init = objective(X_init)"
   ]
  },
  {
   "cell_type": "markdown",
   "metadata": {},
   "source": [
    "# Perform BO with SSK"
   ]
  },
  {
   "cell_type": "code",
   "execution_count": 92,
   "metadata": {},
   "outputs": [
    {
     "name": "stderr",
     "output_type": "stream",
     "text": [
      "reconstraining parameters GP_regression.sk.Gap_decay\n",
      "reconstraining parameters GP_regression.sk.Match_decay\n"
     ]
    }
   ],
   "source": [
    "# build BO loop\n",
    "# fit SSK model\n",
    "model =SSK_model(space,X_init,Y_init,max_subsequence_length=5,n_restarts=1)\n",
    "# Load core elements for Bayesian optimization\n",
    "expected_improvement = ExpectedImprovement(model)\n",
    "# use random search to optimize acqusition function\n",
    "optimizer = RandomSearchAcquisitionOptimizer(space,100)\n",
    "bayesopt_loop_ssk = BayesianOptimizationLoop(model = model, \n",
    "                                         space = space,\n",
    "                                         acquisition = expected_improvement,\n",
    "                                         acquisition_optimizer = optimizer)\n",
    "# add loop summary\n",
    "def summary(loop, loop_state):\n",
    "    print(\"Performing BO step {}\".format(bayesopt_loop_ssk.loop_state.iteration))\n",
    "bayesopt_loop_ssk.iteration_end_event.append(summary)"
   ]
  },
  {
   "cell_type": "code",
   "execution_count": 93,
   "metadata": {},
   "outputs": [
    {
     "name": "stdout",
     "output_type": "stream",
     "text": [
      "Optimization restart 1/1, f = 19.187225084021048\n",
      "Performing BO step 1\n",
      "Optimization restart 1/1, f = 19.4324883478452\n",
      "Performing BO step 2\n",
      "Optimization restart 1/1, f = 20.96502478708952\n",
      "Performing BO step 3\n",
      "Optimization restart 1/1, f = 22.177631866021827\n",
      "Performing BO step 4\n",
      "Optimization restart 1/1, f = 22.770837956197\n",
      "Performing BO step 5\n",
      "Optimization restart 1/1, f = 23.007345804186706\n",
      "Performing BO step 6\n",
      "Optimization restart 1/1, f = 25.1949142594821\n",
      "Performing BO step 7\n",
      "Optimization restart 1/1, f = 27.398841126215558\n",
      "Performing BO step 8\n",
      "Optimization restart 1/1, f = 29.30916579487214\n",
      "Performing BO step 9\n",
      "Optimization restart 1/1, f = 29.562186395466064\n",
      "Performing BO step 10\n",
      "Optimization restart 1/1, f = 30.217669431124214\n",
      "Performing BO step 11\n",
      "Optimization restart 1/1, f = 30.887164068010343\n",
      "Performing BO step 12\n",
      "Optimization restart 1/1, f = 31.402285717969804\n",
      "Performing BO step 13\n",
      "Optimization restart 1/1, f = 32.550619465639684\n",
      "Performing BO step 14\n",
      "Optimization restart 1/1, f = 33.59704994740069\n",
      "Performing BO step 15\n",
      "Optimization restart 1/1, f = 34.05943456419793\n",
      "Performing BO step 16\n",
      "Optimization restart 1/1, f = 35.295510963444066\n",
      "Performing BO step 17\n",
      "Optimization restart 1/1, f = 36.31503601985464\n",
      "Performing BO step 18\n",
      "Optimization restart 1/1, f = 36.69029216283171\n",
      "Performing BO step 19\n",
      "Optimization restart 1/1, f = 37.58468659567298\n",
      "Performing BO step 20\n",
      "Optimization restart 1/1, f = 37.90861137770602\n",
      "Performing BO step 21\n",
      "Optimization restart 1/1, f = 41.648479708112895\n",
      "Performing BO step 22\n",
      "Optimization restart 1/1, f = 41.77276893593312\n",
      "Performing BO step 23\n",
      "Optimization restart 1/1, f = 43.51514248433334\n",
      "Performing BO step 24\n",
      "Optimization restart 1/1, f = 48.42311325700348\n",
      "Performing BO step 25\n",
      "Optimization restart 1/1, f = 49.2245876758873\n",
      "Performing BO step 26\n",
      "Optimization restart 1/1, f = 50.87504881840471\n",
      "Performing BO step 27\n",
      "Optimization restart 1/1, f = 51.56226658704908\n",
      "Performing BO step 28\n",
      "Optimization restart 1/1, f = 52.829255112727864\n",
      "Performing BO step 29\n",
      "Optimization restart 1/1, f = 53.01206046256472\n",
      "Performing BO step 30\n",
      "Optimization restart 1/1, f = 54.08956802317677\n",
      "Performing BO step 31\n",
      "Optimization restart 1/1, f = 55.107071650553124\n",
      "Performing BO step 32\n",
      "Optimization restart 1/1, f = 56.006518713794634\n",
      "Performing BO step 33\n",
      "Optimization restart 1/1, f = 57.16472013222497\n",
      "Performing BO step 34\n",
      "Optimization restart 1/1, f = 57.89757009237145\n",
      "Performing BO step 35\n",
      "Optimization restart 1/1, f = 59.00828577772883\n"
     ]
    }
   ],
   "source": [
    "# run BO loop for 10 steps \n",
    "stopping_condition = FixedIterationsStoppingCondition(i_max = 35) \n",
    "bayesopt_loop_ssk.run_loop(objective, stopping_condition)"
   ]
  },
  {
   "cell_type": "markdown",
   "metadata": {},
   "source": [
    "# Perform random search"
   ]
  },
  {
   "cell_type": "code",
   "execution_count": 94,
   "metadata": {},
   "outputs": [],
   "source": [
    "# also see performance of random search \n",
    "#(starting from the initialization used by the other approaches)\n",
    "np.random.seed(1234)\n",
    "Y_random=np.vstack([Y_init,objective(random_design.get_samples(35))])"
   ]
  },
  {
   "cell_type": "markdown",
   "metadata": {},
   "source": [
    "# plot results"
   ]
  },
  {
   "cell_type": "code",
   "execution_count": 95,
   "metadata": {
    "scrolled": false
   },
   "outputs": [
    {
     "data": {
      "text/plain": [
       "<matplotlib.legend.Legend at 0x7fcddd4f6ba8>"
      ]
     },
     "execution_count": 95,
     "metadata": {},
     "output_type": "execute_result"
    },
    {
     "data": {
      "image/png": "[encoded data removed]",
      "text/plain": [
       "<Figure size 432x288 with 1 Axes>"
      ]
     },
     "metadata": {
      "needs_background": "light"
     },
     "output_type": "display_data"
    }
   ],
   "source": [
    "# plot results from the two methods\n",
    "# recall that first 15 points are a random sample shared by all the methods\n",
    "plt.plot(-np.minimum.accumulate(bayesopt_loop_ssk.loop_state.Y),label=\"Split SSk\")\n",
    "plt.plot(-np.minimum.accumulate(Y_random),label=\"Random Search\")\n",
    "\n",
    "plt.ylabel('Current best')\n",
    "plt.xlabel('Iteration')\n",
    "plt.legend()"
   ]
  }
 ],
 "metadata": {
  "kernelspec": {
   "display_name": "stringbo",
   "language": "python",
   "name": "stringbo"
  },
  "language_info": {
   "codemirror_mode": {
    "name": "ipython",
    "version": 3
   },
   "file_extension": ".py",
   "mimetype": "text/x-python",
   "name": "python",
   "nbconvert_exporter": "python",
   "pygments_lexer": "ipython3",
   "version": "3.6.9"
  }
 },
 "nbformat": 4,
 "nbformat_minor": 4
}
