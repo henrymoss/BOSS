{
 "cells": [
  {
   "cell_type": "code",
   "execution_count": 1,
   "metadata": {},
   "outputs": [],
   "source": [
    "import numpy as np\n",
    "import emukit\n",
    "import re\n",
    "import matplotlib.pyplot as plt\n",
    "from emukit.core.initial_designs import RandomDesign\n",
    "from emukit.core import ParameterSpace\n",
    "from emukit.core.optimization import RandomSearchAcquisitionOptimizer\n",
    "from emukit.bayesian_optimization.loops import BayesianOptimizationLoop\n",
    "from emukit.bayesian_optimization.acquisitions import ExpectedImprovement\n",
    "from emukit.core.loop import FixedIterationsStoppingCondition\n"
   ]
  },
  {
   "cell_type": "code",
   "execution_count": 2,
   "metadata": {},
   "outputs": [
    {
     "name": "stderr",
     "output_type": "stream",
     "text": [
      " /home/mossh/StringBO/StringBO/stringbo/code/kernels/string/numba_string_kernel.py:227: NumbaPerformanceWarning:np.dot() is faster on contiguous arrays, called on (array(float64, 2d, C), array(float64, 2d, A))\n",
      " /home/mossh/StringBO/StringBO/stringbo/code/kernels/string/numba_string_kernel.py:229: NumbaPerformanceWarning:np.dot() is faster on contiguous arrays, called on (array(float64, 2d, F), array(float64, 2d, A))\n",
      " /home/mossh/StringBO/StringBO/stringbo/code/kernels/string/numba_string_kernel.py:232: NumbaPerformanceWarning:np.dot() is faster on contiguous arrays, called on (array(float64, 2d, C), array(float64, 2d, A))\n",
      " /home/mossh/StringBO/StringBO/stringbo/code/kernels/string/numba_string_kernel.py:247: NumbaPerformanceWarning:np.dot() is faster on contiguous arrays, called on (array(float64, 1d, C), array(float64, 1d, A))\n"
     ]
    }
   ],
   "source": [
    "#import our code\n",
    "from stringbo.code.parameters.string_parameter import StringParameter\n",
    "from stringbo.code.optimizers.StringGeneticAlgorithmAcquisitionOptimizer import StringGeneticProgrammingOptimizer\n",
    "from stringbo.code.emukit_models.emukit_bow_model import BOW_model\n",
    "from stringbo.code.emukit_models.emukit_linear_model import linear_model\n",
    "from stringbo.code.emukit_models.emukit_ssk_model import SSK_model"
   ]
  },
  {
   "cell_type": "markdown",
   "metadata": {},
   "source": [
    "# Define problem (objective and space)"
   ]
  },
  {
   "cell_type": "code",
   "execution_count": 3,
   "metadata": {},
   "outputs": [],
   "source": [
    "# define an objective function (to be minimized) and space \n",
    "def objective(x):\n",
    "    # count number of occurences of target substring\n",
    "    # *-1 so we can minimize\n",
    "    return -len(re.findall('(?=1 0 1)', x))\n",
    "objective=np.vectorize(objective)\n",
    "# define search space\n",
    "space = ParameterSpace([StringParameter(\"string\",length=20,alphabet=[\"0\",\"1\"])])"
   ]
  },
  {
   "cell_type": "markdown",
   "metadata": {},
   "source": [
    "### Alternative Problems (from Moss et al 2020)"
   ]
  },
  {
   "cell_type": "code",
   "execution_count": 5,
   "metadata": {},
   "outputs": [],
   "source": [
    "#############\n",
    "# def objective(x):\n",
    "#     # count number of occurences of target string\n",
    "#     return -len(re.findall('(?=0 1 . . 4)', x))\n",
    "# objective=np.vectorize(objective)\n",
    "# space = ParameterSpace([StringParameter(\"string\",length=20,alphabet=[\"0\",\"1\",\"2\",\"3\",\"4\"])])\n",
    "#############\n",
    "\n",
    "#############\n",
    "# def objective(x):\n",
    "#     # count number of occurences of target string\n",
    "#     return -x.count(\"1 0 1\")\n",
    "# objective=np.vectorize(objective)\n",
    "# space = ParameterSpace([StringParameter(\"string\",length=20,alphabet=[\"0\",\"1\"])])\n",
    "#############\n",
    "\n",
    "#############\n",
    "# def objective(x):\n",
    "#     # count number of occurences of target string\n",
    "#     return -len(re.findall('(?=1 0 . . 1)', x))\n",
    "# objective=np.vectorize(objective)\n",
    "# space = ParameterSpace([StringParameter(\"string\",length=20,alphabet=[\"0\",\"1\"])])\n",
    "#############\n",
    "\n",
    "#############\n",
    "# def objective(x):\n",
    "#     # count number of occurences of target string\n",
    "#     return -x[:30].count(\"1 0 1\")\n",
    "# objective=np.vectorize(objective)\n",
    "# space = ParameterSpace([StringParameter(\"string\",length=30,alphabet=[\"0\",\"1\"])])\n",
    "#############\n",
    "\n",
    "#############\n",
    "# def objective(x):\n",
    "#     # count number of occurences of target string\n",
    "#     return -x.count(\"1 2 3\")\n",
    "# objective=np.vectorize(objective)\n",
    "# space = ParameterSpace([StringParameter(\"string\",length=30,alphabet=[\"0\",\"1\",\"2\",\"3\"])])\n",
    "#############"
   ]
  },
  {
   "cell_type": "markdown",
   "metadata": {},
   "source": [
    "# Collect initial points"
   ]
  },
  {
   "cell_type": "code",
   "execution_count": 4,
   "metadata": {},
   "outputs": [],
   "source": [
    "# collect initial design (uniform sample)\n",
    "random_design = RandomDesign(space)\n",
    "initial_points_count = 5\n",
    "X_init = random_design.get_samples(initial_points_count)\n",
    "Y_init = objective(X_init)"
   ]
  },
  {
   "cell_type": "markdown",
   "metadata": {},
   "source": [
    "# Perform BO on BOW representation"
   ]
  },
  {
   "cell_type": "code",
   "execution_count": 7,
   "metadata": {},
   "outputs": [
    {
     "name": "stdout",
     "output_type": "stream",
     "text": [
      "Optimization restart 1/1, f = 6.572574258677858\n"
     ]
    }
   ],
   "source": [
    "# build BO loop\n",
    "# fit BOW model\n",
    "model = BOW_model(space,X_init,Y_init,max_feature_length=5)\n",
    "# Load core elements for Bayesian optimization\n",
    "expected_improvement = ExpectedImprovement(model)\n",
    "# either use genetic algorithm or random search to optimize acqusition function\n",
    "optimizer =  StringGeneticProgrammingOptimizer(space,dynamic=True,population_size=100,tournament_prob=0.5,p_crossover= 0.8, p_mutation=0.1)\n",
    "# optimizer = RandomSearchAcquisitionOptimizer(space,10000)\n",
    "bayesopt_loop_BOW = BayesianOptimizationLoop(model = model, \n",
    "                                         space = space,\n",
    "                                         acquisition = expected_improvement,\n",
    "                                         acquisition_optimizer = optimizer)\n",
    "# add loop summary\n",
    "def summary(loop, loop_state):\n",
    "    print(\"Performing BO step {}\".format(bayesopt_loop_ssk.loop_state.iteration))\n",
    "bayesopt_loop_ssk.iteration_end_event.append(summary)"
   ]
  },
  {
   "cell_type": "code",
   "execution_count": 8,
   "metadata": {},
   "outputs": [
    {
     "name": "stdout",
     "output_type": "stream",
     "text": [
      "Optimization restart 1/1, f = 6.572574258677858\n",
      "Optimization restart 1/1, f = 7.216435149505845\n",
      "Optimization restart 1/1, f = 6.27669169041199\n",
      "Optimization restart 1/1, f = 7.344445286874973\n",
      "Optimization restart 1/1, f = 7.98942763266373\n",
      "Optimization restart 1/1, f = 9.188247871291214\n",
      "Optimization restart 1/1, f = 10.893979893629849\n",
      "Optimization restart 1/1, f = 11.284289046523174\n",
      "Optimization restart 1/1, f = 9.299913870986076\n",
      "Optimization restart 1/1, f = 8.438196628666326\n",
      "Optimization restart 1/1, f = 10.015388615223287\n"
     ]
    }
   ],
   "source": [
    "# run BO loop for 10 steps \n",
    "stopping_condition = FixedIterationsStoppingCondition(i_max = 10) \n",
    "bayesopt_loop_BOW.run_loop(objective, stopping_condition)"
   ]
  },
  {
   "cell_type": "markdown",
   "metadata": {},
   "source": [
    "# Perform BO on linear representation"
   ]
  },
  {
   "cell_type": "code",
   "execution_count": 9,
   "metadata": {},
   "outputs": [
    {
     "name": "stdout",
     "output_type": "stream",
     "text": [
      "Optimization restart 1/1, f = 8.07908141194053\n"
     ]
    }
   ],
   "source": [
    "# build BO loop\n",
    "# fit linear GP model\n",
    "model = linear_model(space,X_init,Y_init)\n",
    "# Load core elements for Bayesian optimization\n",
    "expected_improvement = ExpectedImprovement(model)\n",
    "# either use genetic algorithm or random search to optimize acqusition function\n",
    "optimizer =  StringGeneticProgrammingOptimizer(space,dynamic=True,population_size=100,tournament_prob=0.5,p_crossover= 0.8, p_mutation=0.1)\n",
    "# optimizer = RandomSearchAcquisitionOptimizer(space,10000)\n",
    "bayesopt_loop_linear= BayesianOptimizationLoop(model = model, \n",
    "                                         space = space,\n",
    "                                         acquisition = expected_improvement,\n",
    "                                         acquisition_optimizer = optimizer)"
   ]
  },
  {
   "cell_type": "code",
   "execution_count": 10,
   "metadata": {},
   "outputs": [
    {
     "name": "stdout",
     "output_type": "stream",
     "text": [
      "Optimization restart 1/1, f = 8.07908141194053\n",
      "Optimization restart 1/1, f = 7.816878668090207\n",
      "Optimization restart 1/1, f = 7.932300995748362\n",
      "Optimization restart 1/1, f = 10.483787427280188\n",
      "Optimization restart 1/1, f = 12.430337198553113\n",
      "Optimization restart 1/1, f = 13.067787277558129\n",
      "Optimization restart 1/1, f = 12.723705725809783\n",
      "Optimization restart 1/1, f = 17.480401690312377\n",
      "Optimization restart 1/1, f = 20.288417795395034\n",
      "Optimization restart 1/1, f = 29.750655429517522\n",
      "Optimization restart 1/1, f = 41.29588717743968\n"
     ]
    }
   ],
   "source": [
    "# run BO loop for 10 steps \n",
    "stopping_condition = FixedIterationsStoppingCondition(i_max = 10) \n",
    "bayesopt_loop_linear.run_loop(objective, stopping_condition)"
   ]
  },
  {
   "cell_type": "markdown",
   "metadata": {},
   "source": [
    "# Perform BO on SSK"
   ]
  },
  {
   "cell_type": "code",
   "execution_count": 11,
   "metadata": {},
   "outputs": [
    {
     "name": "stderr",
     "output_type": "stream",
     "text": [
      "reconstraining parameters GP_regression.sk.Gap_decay\n",
      "reconstraining parameters GP_regression.sk.Match_decay\n"
     ]
    },
    {
     "name": "stdout",
     "output_type": "stream",
     "text": [
      "Optimization restart 1/3, f = 16.954187215577264\n",
      "Optimization restart 2/3, f = 12.017520650095179\n",
      "Optimization restart 3/3, f = 12.017520648429041\n"
     ]
    }
   ],
   "source": [
    "# build BO loop\n",
    "# fit SSK model\n",
    "model = SSK_model(space,X_init,Y_init,max_subsequence_length=5)\n",
    "# Load core elements for Bayesian optimization\n",
    "expected_improvement = ExpectedImprovement(model)\n",
    "# either use genetic algorithm or random search to optimize acqusition function\n",
    "optimizer =  StringGeneticProgrammingOptimizer(space,dynamic=True,population_size=100,tournament_prob=0.5,p_crossover= 0.8, p_mutation=0.1)\n",
    "# optimizer = RandomSearchAcquisitionOptimizer(space,10000)\n",
    "bayesopt_loop_SSK= BayesianOptimizationLoop(model = model, \n",
    "                                         space = space,\n",
    "                                         acquisition = expected_improvement,\n",
    "                                         acquisition_optimizer = optimizer)"
   ]
  },
  {
   "cell_type": "code",
   "execution_count": 12,
   "metadata": {
    "scrolled": true
   },
   "outputs": [
    {
     "name": "stdout",
     "output_type": "stream",
     "text": [
      "Optimization restart 1/3, f = 12.017520648429041\n",
      "Optimization restart 2/3, f = 12.01752066778419\n",
      "Optimization restart 3/3, f = 16.95418642380134\n",
      "Optimization restart 1/3, f = 7.8924441398490615\n",
      "Optimization restart 2/3, f = 7.892442704634506\n",
      "Optimization restart 3/3, f = 17.120612479050436\n",
      "Optimization restart 1/3, f = 5.686300729867328\n",
      "Optimization restart 2/3, f = 12.391419511791922\n",
      "Optimization restart 3/3, f = 5.686314116622943\n",
      "Optimization restart 1/3, f = 4.137933619493397\n",
      "Optimization restart 2/3, f = 4.121745063818825\n",
      "Optimization restart 3/3, f = 4.12174656577207\n",
      "Optimization restart 1/3, f = 4.795506770239428\n",
      "Optimization restart 2/3, f = 4.795512737706972\n",
      "Optimization restart 3/3, f = 4.795505376444767\n",
      "Optimization restart 1/3, f = 3.4350836014720336\n",
      "Optimization restart 2/3, f = 3.4350867134492837\n",
      "Optimization restart 3/3, f = 3.4350834350801076\n",
      "Optimization restart 1/3, f = 1.035775652801977\n",
      "Optimization restart 2/3, f = 1.1158445000926172\n",
      "Optimization restart 3/3, f = 1.035775429868501\n",
      "Optimization restart 1/3, f = -4.616553174671257\n",
      "Optimization restart 2/3, f = -4.6165532098266215\n",
      "Optimization restart 3/3, f = -4.616553168011446\n",
      "Optimization restart 1/3, f = -10.296978639969122\n",
      "Optimization restart 2/3, f = -10.29697273350745\n",
      "Optimization restart 3/3, f = -10.249117444391093\n",
      "Optimization restart 1/3, f = -10.050051221728467\n",
      "Optimization restart 2/3, f = -10.050051162143737\n",
      "Optimization restart 3/3, f = -10.049551133668158\n",
      "Optimization restart 1/3, f = -11.823367060291751\n",
      "Optimization restart 2/3, f = -11.823367058032057\n",
      "Optimization restart 3/3, f = -11.823366619666423\n"
     ]
    }
   ],
   "source": [
    "# run BO loop for 10 steps \n",
    "stopping_condition = FixedIterationsStoppingCondition(i_max = 10) \n",
    "bayesopt_loop_SSK.run_loop(objective, stopping_condition)"
   ]
  },
  {
   "cell_type": "markdown",
   "metadata": {},
   "source": [
    "# Perform BO on split SSK"
   ]
  },
  {
   "cell_type": "code",
   "execution_count": 13,
   "metadata": {},
   "outputs": [
    {
     "name": "stderr",
     "output_type": "stream",
     "text": [
      "reconstraining parameters GP_regression.sk.Gap_decay\n",
      "reconstraining parameters GP_regression.sk.Match_decay\n"
     ]
    },
    {
     "name": "stdout",
     "output_type": "stream",
     "text": [
      "Optimization restart 1/3, f = 8.080109793477803\n",
      "Optimization restart 2/3, f = 7.887689448175233\n",
      "Optimization restart 3/3, f = 7.8876802430896245\n"
     ]
    }
   ],
   "source": [
    "# build BO loop\n",
    "# fit SSK model onto each of 5 sections of the string\n",
    "model = SSK_model(space,X_init,Y_init,max_subsequence_length=5,num_splits=5)\n",
    "# Load core elements for Bayesian optimization\n",
    "expected_improvement = ExpectedImprovement(model)\n",
    "# either use genetic algorithm or random search to optimize acqusition function\n",
    "optimizer =  StringGeneticProgrammingOptimizer(space,dynamic=True,population_size=100,tournament_prob=0.5,p_crossover= 0.8, p_mutation=0.1)\n",
    "# optimizer = RandomSearchAcquisitionOptimizer(space,10000)\n",
    "bayesopt_loop_split_SSK= BayesianOptimizationLoop(model = model, \n",
    "                                         space = space,\n",
    "                                         acquisition = expected_improvement,\n",
    "                                         acquisition_optimizer = optimizer)"
   ]
  },
  {
   "cell_type": "code",
   "execution_count": 14,
   "metadata": {},
   "outputs": [
    {
     "name": "stdout",
     "output_type": "stream",
     "text": [
      "Optimization restart 1/3, f = 7.8876802430896245\n",
      "Optimization restart 2/3, f = 7.887680560386792\n",
      "Optimization restart 3/3, f = 7.887689288632614\n",
      "Optimization restart 1/3, f = 10.70461436074592\n",
      "Optimization restart 2/3, f = 10.489271075836289\n",
      "Optimization restart 3/3, f = 10.489278822979704\n",
      "Optimization restart 1/3, f = 12.323186710697318\n",
      "Optimization restart 2/3, f = 12.323200268745587\n",
      "Optimization restart 3/3, f = 12.323201568792184\n",
      "Optimization restart 1/3, f = 12.788272699770085\n",
      "Optimization restart 2/3, f = 12.58501680257546\n",
      "Optimization restart 3/3, f = 12.585017906251045\n",
      "Optimization restart 1/3, f = 15.123672770709794\n",
      "Optimization restart 2/3, f = 15.294758405080731\n",
      "Optimization restart 3/3, f = 15.12368231298321\n",
      "Optimization restart 1/3, f = 15.82264468845351\n",
      "Optimization restart 2/3, f = 15.809029093672358\n",
      "Optimization restart 3/3, f = 15.822652004966784\n",
      "Optimization restart 1/3, f = 15.195303368061698\n",
      "Optimization restart 2/3, f = 15.195299099965164\n",
      "Optimization restart 3/3, f = 15.195296329965943\n",
      "Optimization restart 1/3, f = 17.12146063296992\n",
      "Optimization restart 2/3, f = 17.121457146151663\n",
      "Optimization restart 3/3, f = 17.121457730226993\n",
      "Optimization restart 1/3, f = 19.10690990881983\n",
      "Optimization restart 2/3, f = 19.254506602212693\n",
      "Optimization restart 3/3, f = 19.106909888612304\n",
      "Optimization restart 1/3, f = 18.67165703909756\n",
      "Optimization restart 2/3, f = 18.67165763209529\n",
      "Optimization restart 3/3, f = 18.67166420367583\n",
      "Optimization restart 1/3, f = 18.261606216991986\n",
      "Optimization restart 2/3, f = 18.261614017714397\n",
      "Optimization restart 3/3, f = 18.26161180329617\n"
     ]
    }
   ],
   "source": [
    "# run BO loop for 10 steps \n",
    "stopping_condition = FixedIterationsStoppingCondition(i_max = 10) \n",
    "bayesopt_loop_split_SSK.run_loop(objective, stopping_condition)"
   ]
  },
  {
   "cell_type": "markdown",
   "metadata": {},
   "source": [
    "# Perform random search"
   ]
  },
  {
   "cell_type": "code",
   "execution_count": 18,
   "metadata": {},
   "outputs": [],
   "source": [
    "# also see performance of random search \n",
    "#(starting from the initialization used by the other approaches)\n",
    "Y_random=np.vstack([Y_init,objective(random_design.get_samples(10))])"
   ]
  },
  {
   "cell_type": "markdown",
   "metadata": {},
   "source": [
    "# plot results"
   ]
  },
  {
   "cell_type": "code",
   "execution_count": 20,
   "metadata": {
    "scrolled": false
   },
   "outputs": [
    {
     "data": {
      "text/plain": [
       "<matplotlib.legend.Legend at 0x7f83aa3c4fd0>"
      ]
     },
     "execution_count": 20,
     "metadata": {},
     "output_type": "execute_result"
    },
    {
     "data": {
      "image/png": "[encoded data removed]",
      "text/plain": [
       "<Figure size 432x288 with 1 Axes>"
      ]
     },
     "metadata": {
      "needs_background": "light"
     },
     "output_type": "display_data"
    }
   ],
   "source": [
    "# plot results from 5 methods\n",
    "# recall that first 5 points are a random sample shared by all the methods\n",
    "plt.plot(-np.minimum.accumulate(bayesopt_loop_BOW.loop_state.Y),label=\"BOW\")\n",
    "plt.plot(-np.minimum.accumulate(bayesopt_loop_linear.loop_state.Y),label=\"Linear\")\n",
    "plt.plot(-np.minimum.accumulate(bayesopt_loop_SSK.loop_state.Y),label=\"SSk\")\n",
    "plt.plot(-np.minimum.accumulate(bayesopt_loop_split_SSK.loop_state.Y),label=\"Split SSk\")\n",
    "plt.plot(-np.minimum.accumulate(Y_random),label=\"Random Search\")\n",
    "\n",
    "plt.ylabel('Current best')\n",
    "plt.xlabel('Iteration')\n",
    "plt.legend()"
   ]
  }
 ],
 "metadata": {
  "kernelspec": {
   "display_name": "stringbo",
   "language": "python",
   "name": "stringbo"
  },
  "language_info": {
   "codemirror_mode": {
    "name": "ipython",
    "version": 3
   },
   "file_extension": ".py",
   "mimetype": "text/x-python",
   "name": "python",
   "nbconvert_exporter": "python",
   "pygments_lexer": "ipython3",
   "version": "3.6.9"
  }
 },
 "nbformat": 4,
 "nbformat_minor": 4
}
