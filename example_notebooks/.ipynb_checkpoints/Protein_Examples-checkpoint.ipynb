{
 "cells": [
  {
   "cell_type": "code",
   "execution_count": 1,
   "metadata": {},
   "outputs": [],
   "source": [
    "import numpy as np\n",
    "import emukit\n",
    "import re\n",
    "from subprocess import Popen, PIPE\n",
    "import subprocess\n",
    "import matplotlib.pyplot as plt\n",
    "from emukit.core.initial_designs import RandomDesign\n",
    "from emukit.core import ParameterSpace\n",
    "from emukit.core.optimization import RandomSearchAcquisitionOptimizer\n",
    "from emukit.bayesian_optimization.loops import BayesianOptimizationLoop\n",
    "from emukit.bayesian_optimization.acquisitions import ExpectedImprovement\n",
    "from emukit.core.loop import FixedIterationsStoppingCondition\n"
   ]
  },
  {
   "cell_type": "code",
   "execution_count": 2,
   "metadata": {},
   "outputs": [],
   "source": [
    "%load_ext autoreload\n",
    "%autoreload 2\n",
    "%matplotlib inline"
   ]
  },
  {
   "cell_type": "code",
   "execution_count": 3,
   "metadata": {},
   "outputs": [
    {
     "name": "stderr",
     "output_type": "stream",
     "text": [
      " /home/mossh/StringBO/StringBO/stringbo/code/kernels/string/numba_string_kernel.py:227: NumbaPerformanceWarning:np.dot() is faster on contiguous arrays, called on (array(float64, 2d, C), array(float64, 2d, A))\n",
      " /home/mossh/StringBO/StringBO/stringbo/code/kernels/string/numba_string_kernel.py:229: NumbaPerformanceWarning:np.dot() is faster on contiguous arrays, called on (array(float64, 2d, F), array(float64, 2d, A))\n",
      " /home/mossh/StringBO/StringBO/stringbo/code/kernels/string/numba_string_kernel.py:232: NumbaPerformanceWarning:np.dot() is faster on contiguous arrays, called on (array(float64, 2d, C), array(float64, 2d, A))\n",
      " /home/mossh/StringBO/StringBO/stringbo/code/kernels/string/numba_string_kernel.py:247: NumbaPerformanceWarning:np.dot() is faster on contiguous arrays, called on (array(float64, 1d, C), array(float64, 1d, A))\n"
     ]
    }
   ],
   "source": [
    "#import our code\n",
    "from stringbo.code.parameters.protein_base_parameter import ProteinBaseParameter\n",
    "from stringbo.code.parameters.protein_codon_parameter import ProteinCodonParameter\n",
    "from stringbo.code.optimizers.ProteinBaseGeneticAlgorithmAcquisitionOptimizer import ProteinBaseGeneticProgrammingOptimizer\n",
    "from stringbo.code.optimizers.ProteinCodonGeneticAlgorithmAcquisitionOptimizer import ProteinCodonGeneticProgrammingOptimizer\n",
    "\n",
    "from stringbo.code.emukit_models.emukit_bow_model import BOW_model\n",
    "from stringbo.code.emukit_models.emukit_linear_model import linear_model\n",
    "from stringbo.code.emukit_models.emukit_ssk_model import SSK_model\n",
    "from stringbo.code.emukit_models.emukit_bio_features_model import BIO_Features_model"
   ]
  },
  {
   "cell_type": "markdown",
   "metadata": {},
   "source": [
    "# Define problem (objective and space)"
   ]
  },
  {
   "cell_type": "code",
   "execution_count": 4,
   "metadata": {},
   "outputs": [],
   "source": [
    "# define search space (a short protein to demo software)\n",
    "length = 30\n",
    "alphabet = [\"a\",\"c\",\"t\",\"g\"]\n",
    "space_codon = ParameterSpace([ProteinCodonParameter(\"string\",sequence=\"TIKENIFGVS\")])\n",
    "space_base = ParameterSpace([ProteinBaseParameter(\"string\",sequence=\"TIKENIFGVS\")])\n",
    "# protein consists of 10 amino acids (i.e 30 bases)\n",
    "\n",
    "# define objective function (for base representations)\n",
    "def objective_base(x):\n",
    "    # x in 2-d numpy array of strings x =np.array([[\"actgg\"],[\"gcttag\"]])\n",
    "    results = np.zeros((x.shape[0],1))\n",
    "    for i in range(x.shape[0]):\n",
    "        # call vienna RNA package\n",
    "        # install binaries from https://www.tbi.univie.ac.at/RNA/\n",
    "        p = subprocess.Popen('RNAfold', stdin=PIPE, stdout=PIPE) \n",
    "        string = \"\".join(x[i][0].split(\" \"))\n",
    "        ans=p.communicate(string.encode())\n",
    "        p.terminate()\n",
    "        # collect results from output stream\n",
    "        results[i][0] = float(str(ans[0]).split(\"(\")[-1].split(\")\")[0])\n",
    "    return results\n",
    "\n",
    "# define objective function (for codon representations)\n",
    "def objective_codon(x):\n",
    "   \t# x in 2-d numpy array of strings x =np.array([[\"'35 61 51 24 59 13 20 52 15 17'\"]])    results = np.zeros((x.shape[0],1))\n",
    "    results = np.zeros((x.shape[0],1))\n",
    "    for i in range(x.shape[0]):\n",
    "        # convert back to bases\n",
    "        string = x[i][0]\n",
    "        string = \"\".join([space_codon.parameters[0].codon_to_bases[c] for c in string.split(\" \")])\n",
    "        p = subprocess.Popen('RNAfold', stdin=PIPE, stdout=PIPE) \n",
    "        ans=p.communicate(string.encode())\n",
    "        p.terminate()\n",
    "        # collect results from output stream\n",
    "        results[i][0] = float(str(ans[0]).split(\"(\")[-1].split(\")\")[0])\n",
    "    return results"
   ]
  },
  {
   "cell_type": "code",
   "execution_count": 5,
   "metadata": {},
   "outputs": [
    {
     "name": "stdout",
     "output_type": "stream",
     "text": [
      "example base representation: acaataaaggagaacatatttggcgtatcg\n",
      "example codon representation: 38 33 42 58 41 32 1 63 51 4\n"
     ]
    }
   ],
   "source": [
    "# base representation is a locally constrained space of length 30 and alphabet size 4\n",
    "# codon representation is a locally constrained space of length 10 and alphabet size 64\n",
    "\n",
    "# examine sample data\n",
    "print(\"example base representation: {}\".format(\"\".join(space_base.parameters[0].sample_uniform(1)[0][0].split(\" \"))))\n",
    "print(\"example codon representation: {}\".format(space_codon.parameters[0].sample_uniform(1)[0][0]))"
   ]
  },
  {
   "cell_type": "markdown",
   "metadata": {},
   "source": [
    "# Explain Methods"
   ]
  },
  {
   "cell_type": "code",
   "execution_count": 6,
   "metadata": {},
   "outputs": [],
   "source": [
    "# We now demonstrate how to run all the methods described in Moss et al. 2020\n",
    "#1) Linear GP applied to one-hot encoding of genes in their base representations) (i.e Taneka et al 2018)\n",
    "#2) RBF GP applied to BOW representation of genes  in their base representations\n",
    "#3) RBF GP applied to BOW representation of genes (+ some biologically-inspired features) in their \n",
    "#       codon representations (i.e Gonzalez et al. 2016)\n",
    "#4) Our SSK approach applied to genes in their base representations\n",
    "#5) Our SSK approach applied to genes in their codon representations\n",
    "#6) Our split SSK approach applied to genes in their base representations\n",
    "#7) Our split SSK approach applied to genes in their codon representations\n",
    "#8) A purely randomized gene design loop"
   ]
  },
  {
   "cell_type": "markdown",
   "metadata": {},
   "source": [
    "# Collect initial points"
   ]
  },
  {
   "cell_type": "code",
   "execution_count": 7,
   "metadata": {},
   "outputs": [],
   "source": [
    "# collect initial design and initialize the search space (for both representations)\n",
    "initial_points_count = 5\n",
    "\n",
    "np.random.seed(1234)\n",
    "random_design_codon = RandomDesign(space_codon)\n",
    "X_init_codon = random_design_codon.get_samples(initial_points_count)\n",
    "np.random.seed(1234)\n",
    "random_design_base = RandomDesign(space_base)\n",
    "X_init_base = random_design_base.get_samples(initial_points_count)\n",
    "Y_init = objective_base(X_init_base)\n",
    "\n"
   ]
  },
  {
   "cell_type": "markdown",
   "metadata": {},
   "source": [
    "# 1) Linear GP "
   ]
  },
  {
   "cell_type": "code",
   "execution_count": 8,
   "metadata": {},
   "outputs": [
    {
     "name": "stdout",
     "output_type": "stream",
     "text": [
      "Optimization restart 1/1, f = 8.45703410109492\n"
     ]
    }
   ],
   "source": [
    "# build BO loop\n",
    "# fit BOW model\n",
    "model = linear_model(space_base,X_init_base,Y_init)\n",
    "# Load core elements for Bayesian optimization\n",
    "expected_improvement = ExpectedImprovement(model)\n",
    "# either use genetic algorithm or random search to optimize acqusition function\n",
    "optimizer =  ProteinBaseGeneticProgrammingOptimizer(space_base,dynamic=True,population_size=100,tournament_prob=0.5,p_crossover= 0.8, p_mutation=0.1)\n",
    "# optimizer = RandomSearchAcquisitionOptimizer(space,10000)\n",
    "bayesopt_loop_linear = BayesianOptimizationLoop(model = model, \n",
    "                                         space = space_base,\n",
    "                                         acquisition = expected_improvement,\n",
    "                                         acquisition_optimizer = optimizer)\n",
    "# add loop summary\n",
    "def summary(loop, loop_state):\n",
    "    print(\"Performing BO step {}\".format(bayesopt_loop_ssk.loop_state.iteration))\n",
    "bayesopt_loop_ssk.iteration_end_event.append(summary)"
   ]
  },
  {
   "cell_type": "code",
   "execution_count": 9,
   "metadata": {},
   "outputs": [
    {
     "name": "stdout",
     "output_type": "stream",
     "text": [
      "Optimization restart 1/1, f = 8.45703410109492\n",
      "Optimization restart 1/1, f = 8.335585765242998\n",
      "Optimization restart 1/1, f = 12.213658668333196\n",
      "Optimization restart 1/1, f = 13.971338936079189\n",
      "Optimization restart 1/1, f = 13.4853287701902\n",
      "Optimization restart 1/1, f = 16.44605905576106\n",
      "Optimization restart 1/1, f = 16.980349662777012\n",
      "Optimization restart 1/1, f = 20.73556274515325\n",
      "Optimization restart 1/1, f = 23.174232468464744\n",
      "Optimization restart 1/1, f = 23.48839943384941\n",
      "Optimization restart 1/1, f = 28.90731872807479\n"
     ]
    }
   ],
   "source": [
    "# run BO loop for 10 steps \n",
    "stopping_condition = FixedIterationsStoppingCondition(i_max = 10) \n",
    "bayesopt_loop_linear.run_loop(objective_base, stopping_condition)"
   ]
  },
  {
   "cell_type": "markdown",
   "metadata": {},
   "source": [
    "# 2) BOW of bases"
   ]
  },
  {
   "cell_type": "code",
   "execution_count": 10,
   "metadata": {},
   "outputs": [
    {
     "name": "stdout",
     "output_type": "stream",
     "text": [
      "Optimization restart 1/1, f = 6.878222650792333\n"
     ]
    }
   ],
   "source": [
    "# build BO loop\n",
    "# fit BOW model\n",
    "model = BOW_model(space_base,X_init_base,Y_init,max_feature_length=5)\n",
    "# Load core elements for Bayesian optimization\n",
    "expected_improvement = ExpectedImprovement(model)\n",
    "# either use genetic algorithm or random search to optimize acqusition function\n",
    "optimizer =  ProteinBaseGeneticProgrammingOptimizer(space_base,dynamic=True,population_size=100,tournament_prob=0.5,p_crossover= 0.8, p_mutation=0.1)\n",
    "# optimizer = RandomSearchAcquisitionOptimizer(space,10000)\n",
    "bayesopt_loop_BOW = BayesianOptimizationLoop(model = model, \n",
    "                                         space = space_base,\n",
    "                                         acquisition = expected_improvement,\n",
    "                                         acquisition_optimizer = optimizer)"
   ]
  },
  {
   "cell_type": "code",
   "execution_count": 11,
   "metadata": {},
   "outputs": [
    {
     "name": "stdout",
     "output_type": "stream",
     "text": [
      "Optimization restart 1/1, f = 6.878222650792333\n",
      "Optimization restart 1/1, f = 8.500757070026797\n",
      "Optimization restart 1/1, f = 9.705043495408804\n",
      "Optimization restart 1/1, f = 11.29635797050966\n",
      "Optimization restart 1/1, f = 12.733619969517097\n",
      "Optimization restart 1/1, f = 14.151371179174106\n",
      "Optimization restart 1/1, f = 15.253754207012706\n",
      "Optimization restart 1/1, f = 16.130981764741946\n",
      "Optimization restart 1/1, f = 16.897323030892185\n",
      "Optimization restart 1/1, f = 17.539879876197524\n",
      "Optimization restart 1/1, f = 17.849283806327232\n"
     ]
    }
   ],
   "source": [
    "# run BO loop for 10 steps \n",
    "stopping_condition = FixedIterationsStoppingCondition(i_max = 10) \n",
    "bayesopt_loop_BOW.run_loop(objective_base, stopping_condition)"
   ]
  },
  {
   "cell_type": "markdown",
   "metadata": {},
   "source": [
    "# 3) BOW of codons + biollogically inspired features"
   ]
  },
  {
   "cell_type": "code",
   "execution_count": 12,
   "metadata": {},
   "outputs": [
    {
     "name": "stdout",
     "output_type": "stream",
     "text": [
      "Optimization restart 1/1, f = 7.094693000214747\n"
     ]
    }
   ],
   "source": [
    "# build BO loop\n",
    "# fit model\n",
    "model = BIO_Features_model(space_base,X_init_base,Y_init,max_feature_length=5)\n",
    "# Load core elements for Bayesian optimization\n",
    "expected_improvement = ExpectedImprovement(model)\n",
    "# either use genetic algorithm or random search to optimize acqusition function\n",
    "optimizer =  ProteinBaseGeneticProgrammingOptimizer(space_base,dynamic=True,population_size=100,tournament_prob=0.5,p_crossover= 0.8, p_mutation=0.1)\n",
    "# optimizer = RandomSearchAcquisitionOptimizer(space,10000)\n",
    "bayesopt_loop_BIO = BayesianOptimizationLoop(model = model, \n",
    "                                         space = space_base,\n",
    "                                         acquisition = expected_improvement,\n",
    "                                         acquisition_optimizer = optimizer)"
   ]
  },
  {
   "cell_type": "code",
   "execution_count": 13,
   "metadata": {},
   "outputs": [
    {
     "name": "stdout",
     "output_type": "stream",
     "text": [
      "Optimization restart 1/1, f = 7.094693000214747\n",
      "Optimization restart 1/1, f = 7.2407858258208915\n",
      "Optimization restart 1/1, f = 7.612942431001561\n",
      "Optimization restart 1/1, f = 10.727566454347969\n",
      "Optimization restart 1/1, f = 11.422398618321385\n",
      "Optimization restart 1/1, f = 11.113074028219494\n",
      "Optimization restart 1/1, f = 10.424303293304815\n",
      "Optimization restart 1/1, f = 12.00997024741837\n",
      "Optimization restart 1/1, f = 14.008650438550545\n",
      "Optimization restart 1/1, f = 14.445246012630964\n",
      "Optimization restart 1/1, f = 16.046520382775658\n"
     ]
    }
   ],
   "source": [
    "# run BO loop for 10 steps \n",
    "stopping_condition = FixedIterationsStoppingCondition(i_max = 10) \n",
    "bayesopt_loop_BIO.run_loop(objective_base, stopping_condition)"
   ]
  },
  {
   "cell_type": "markdown",
   "metadata": {},
   "source": [
    "# 4) SSK applied to base representations"
   ]
  },
  {
   "cell_type": "code",
   "execution_count": 14,
   "metadata": {},
   "outputs": [
    {
     "name": "stderr",
     "output_type": "stream",
     "text": [
      "reconstraining parameters GP_regression.sk.Gap_decay\n",
      "reconstraining parameters GP_regression.sk.Match_decay\n"
     ]
    },
    {
     "name": "stdout",
     "output_type": "stream",
     "text": [
      "Optimization restart 1/3, f = 12.945186266786745\n",
      "Optimization restart 2/3, f = 8.722194878806208\n",
      "Optimization restart 3/3, f = 8.722196565825705\n"
     ]
    }
   ],
   "source": [
    "# build BO loop\n",
    "# fit SSK model\n",
    "model = SSK_model(space_base,X_init_base,Y_init,max_subsequence_length=5)\n",
    "# Load core elements for Bayesian optimization\n",
    "expected_improvement = ExpectedImprovement(model)\n",
    "# either use genetic algorithm or random search to optimize acqusition function\n",
    "optimizer =  ProteinBaseGeneticProgrammingOptimizer(space_base,dynamic=True,population_size=100,tournament_prob=0.5,p_crossover= 0.8, p_mutation=0.1)\n",
    "# optimizer = RandomSearchAcquisitionOptimizer(space,10000)\n",
    "bayesopt_loop_SSK_base= BayesianOptimizationLoop(model = model, \n",
    "                                         space = space_base,\n",
    "                                         acquisition = expected_improvement,\n",
    "                                         acquisition_optimizer = optimizer)"
   ]
  },
  {
   "cell_type": "code",
   "execution_count": 15,
   "metadata": {},
   "outputs": [
    {
     "name": "stdout",
     "output_type": "stream",
     "text": [
      "Optimization restart 1/3, f = 8.722194878806208\n",
      "Optimization restart 2/3, f = 8.72219609981572\n",
      "Optimization restart 3/3, f = 8.722193127870987\n",
      "Optimization restart 1/3, f = 7.491726631326944\n",
      "Optimization restart 2/3, f = 7.491726864102671\n",
      "Optimization restart 3/3, f = 7.491726785901813\n",
      "Optimization restart 1/3, f = 19.39658923598277\n",
      "Optimization restart 2/3, f = 19.396588832700512\n",
      "Optimization restart 3/3, f = 19.396594481461378\n",
      "Optimization restart 1/3, f = 15.117310815838664\n",
      "Optimization restart 2/3, f = 26.85247005827755\n",
      "Optimization restart 3/3, f = 26.85247454952341\n",
      "Optimization restart 1/3, f = 13.510740067781239\n",
      "Optimization restart 2/3, f = 24.262040637359895\n",
      "Optimization restart 3/3, f = 24.262036252756495\n",
      "Optimization restart 1/3, f = 13.5110116857571\n",
      "Optimization restart 2/3, f = 13.511017665860368\n",
      "Optimization restart 3/3, f = 25.871296319219475\n",
      "Optimization restart 1/3, f = 13.661878018295056\n",
      "Optimization restart 2/3, f = 13.661883177086299\n",
      "Optimization restart 3/3, f = 13.661889795182672\n",
      "Optimization restart 1/3, f = 13.093554140037806\n",
      "Optimization restart 2/3, f = 27.675419292698514\n",
      "Optimization restart 3/3, f = 13.093559856334412\n",
      "Optimization restart 1/3, f = 13.560158436602459\n",
      "Optimization restart 2/3, f = 13.560168921772595\n",
      "Optimization restart 3/3, f = 13.560173641920299\n",
      "Optimization restart 1/3, f = 14.79269284401369\n",
      "Optimization restart 2/3, f = 14.792700140593613\n",
      "Optimization restart 3/3, f = 14.792696768020344\n",
      "Optimization restart 1/3, f = 14.388918290284268\n",
      "Optimization restart 2/3, f = 27.335136184948333\n",
      "Optimization restart 3/3, f = 27.335139581069313\n"
     ]
    }
   ],
   "source": [
    "# run BO loop for 10 steps \n",
    "stopping_condition = FixedIterationsStoppingCondition(i_max = 10) \n",
    "bayesopt_loop_SSK_base.run_loop(objective_base, stopping_condition)"
   ]
  },
  {
   "cell_type": "markdown",
   "metadata": {},
   "source": [
    "# 5) SSK applied to codon representations"
   ]
  },
  {
   "cell_type": "code",
   "execution_count": 18,
   "metadata": {},
   "outputs": [
    {
     "name": "stderr",
     "output_type": "stream",
     "text": [
      "reconstraining parameters GP_regression.sk.Gap_decay\n",
      "reconstraining parameters GP_regression.sk.Match_decay\n"
     ]
    },
    {
     "name": "stdout",
     "output_type": "stream",
     "text": [
      "Optimization restart 1/3, f = 7.095723123746178\n",
      "Optimization restart 2/3, f = 7.028702983938844\n",
      "Optimization restart 3/3, f = 7.028702979700378\n"
     ]
    }
   ],
   "source": [
    "# build BO loop\n",
    "# fit SSK model\n",
    "model = SSK_model(space_codon,X_init_codon,Y_init,max_subsequence_length=5)\n",
    "# Load core elements for Bayesian optimization\n",
    "expected_improvement = ExpectedImprovement(model)\n",
    "# either use genetic algorithm or random search to optimize acqusition function\n",
    "optimizer =  ProteinCodonGeneticProgrammingOptimizer(space_codon,dynamic=True,population_size=100,tournament_prob=0.5,p_crossover= 0.8, p_mutation=0.1)\n",
    "# optimizer = RandomSearchAcquisitionOptimizer(space,10000)\n",
    "bayesopt_loop_SSK_codon= BayesianOptimizationLoop(model = model, \n",
    "                                         space = space_codon,\n",
    "                                         acquisition = expected_improvement,\n",
    "                                         acquisition_optimizer = optimizer)"
   ]
  },
  {
   "cell_type": "code",
   "execution_count": 19,
   "metadata": {},
   "outputs": [
    {
     "name": "stdout",
     "output_type": "stream",
     "text": [
      "Optimization restart 1/3, f = 7.028702979700378\n",
      "Optimization restart 2/3, f = 7.028702980156037\n",
      "Optimization restart 3/3, f = 7.028702979633268\n",
      "Optimization restart 1/3, f = 6.9189998671953905\n",
      "Optimization restart 2/3, f = 6.918999866726069\n",
      "Optimization restart 3/3, f = 6.918999866705673\n",
      "Optimization restart 1/3, f = 8.339959650565934\n",
      "Optimization restart 2/3, f = 8.339959648904182\n",
      "Optimization restart 3/3, f = 8.339959657753116\n",
      "Optimization restart 1/3, f = 9.009740514203667\n",
      "Optimization restart 2/3, f = 9.09034822412957\n",
      "Optimization restart 3/3, f = 9.009740513890886\n",
      "Optimization restart 1/3, f = 10.09307216451459\n",
      "Optimization restart 2/3, f = 10.093072164578075\n",
      "Optimization restart 3/3, f = 10.093072164513503\n",
      "Optimization restart 1/3, f = 10.08709607217352\n",
      "Optimization restart 2/3, f = 10.087096071288578\n",
      "Optimization restart 3/3, f = 10.087096071288448\n",
      "Optimization restart 1/3, f = 10.107762779985087\n",
      "Optimization restart 2/3, f = 10.107762780061467\n",
      "Optimization restart 3/3, f = 10.107762780531505\n",
      "Optimization restart 1/3, f = 11.112358130166665\n",
      "Optimization restart 2/3, f = 11.112358059204091\n",
      "Optimization restart 3/3, f = 11.112358140874987\n",
      "Optimization restart 1/3, f = 11.157644797355513\n",
      "Optimization restart 2/3, f = 11.157645619777604\n",
      "Optimization restart 3/3, f = 11.157645135657535\n",
      "Optimization restart 1/3, f = 11.882332171360666\n",
      "Optimization restart 2/3, f = 11.882333505748534\n",
      "Optimization restart 3/3, f = 11.88233239278275\n",
      "Optimization restart 1/3, f = 11.420329540178114\n",
      "Optimization restart 2/3, f = 11.420330384181565\n",
      "Optimization restart 3/3, f = 11.420329848143759\n"
     ]
    }
   ],
   "source": [
    "# run BO loop for 10 steps \n",
    "stopping_condition = FixedIterationsStoppingCondition(i_max = 10) \n",
    "bayesopt_loop_SSK_codon.run_loop(objective_codon, stopping_condition)"
   ]
  },
  {
   "cell_type": "markdown",
   "metadata": {},
   "source": [
    "# 6) SSK applied to base representations split into 6\n"
   ]
  },
  {
   "cell_type": "code",
   "execution_count": 20,
   "metadata": {},
   "outputs": [
    {
     "name": "stderr",
     "output_type": "stream",
     "text": [
      "reconstraining parameters GP_regression.sk.Gap_decay\n",
      "reconstraining parameters GP_regression.sk.Match_decay\n"
     ]
    },
    {
     "name": "stdout",
     "output_type": "stream",
     "text": [
      "Optimization restart 1/3, f = 8.693297877106534\n",
      "Optimization restart 2/3, f = 8.574437601697616\n",
      "Optimization restart 3/3, f = 8.574437602103018\n"
     ]
    }
   ],
   "source": [
    "# build BO loop\n",
    "# fit SSK model\n",
    "model = SSK_model(space_base,X_init_base,Y_init,num_splits=6,max_subsequence_length=5)\n",
    "# Load core elements for Bayesian optimization\n",
    "expected_improvement = ExpectedImprovement(model)\n",
    "# either use genetic algorithm or random search to optimize acqusition function\n",
    "optimizer =  ProteinBaseGeneticProgrammingOptimizer(space_base,dynamic=True,population_size=100,tournament_prob=0.5,p_crossover= 0.8, p_mutation=0.1)\n",
    "# optimizer = RandomSearchAcquisitionOptimizer(space,10000)\n",
    "bayesopt_loop_SSK_base_split= BayesianOptimizationLoop(model = model, \n",
    "                                         space = space_base,\n",
    "                                         acquisition = expected_improvement,\n",
    "                                         acquisition_optimizer = optimizer)"
   ]
  },
  {
   "cell_type": "code",
   "execution_count": 21,
   "metadata": {},
   "outputs": [
    {
     "name": "stdout",
     "output_type": "stream",
     "text": [
      "Optimization restart 1/3, f = 8.574437601697616\n",
      "Optimization restart 2/3, f = 8.574437601407295\n",
      "Optimization restart 3/3, f = 8.57443760141207\n",
      "Optimization restart 1/3, f = 9.627815178388516\n",
      "Optimization restart 2/3, f = 9.627808119074547\n",
      "Optimization restart 3/3, f = 9.62781755263758\n",
      "Optimization restart 1/3, f = 11.62194906482368\n",
      "Optimization restart 2/3, f = 11.621950757711447\n",
      "Optimization restart 3/3, f = 11.621949320047968\n",
      "Optimization restart 1/3, f = 12.028146373692456\n",
      "Optimization restart 2/3, f = 12.028146815609462\n",
      "Optimization restart 3/3, f = 12.028147111331531\n",
      "Optimization restart 1/3, f = 15.262787559937387\n",
      "Optimization restart 2/3, f = 15.202619347832817\n",
      "Optimization restart 3/3, f = 15.202627657533066\n",
      "Optimization restart 1/3, f = 19.91248165554156\n",
      "Optimization restart 2/3, f = 19.912489898915698\n",
      "Optimization restart 3/3, f = 19.91248731988109\n",
      "Optimization restart 1/3, f = 30.649794049981512\n",
      "Optimization restart 2/3, f = 30.649800883547442\n",
      "Optimization restart 3/3, f = 30.649795390992175\n",
      "Optimization restart 1/3, f = 47.88641745828275\n",
      "Optimization restart 2/3, f = 47.88642042310339\n",
      "Optimization restart 3/3, f = 47.88646091403929\n",
      "Optimization restart 1/3, f = 83.63037228210402\n",
      "Optimization restart 2/3, f = 83.6303715576414\n",
      "Optimization restart 3/3, f = 83.63036811325864\n",
      "Optimization restart 1/3, f = 88.76312226625797\n",
      "Optimization restart 2/3, f = 88.763122262375\n",
      "Optimization restart 3/3, f = 88.76312716848142\n",
      "Optimization restart 1/3, f = 123.79940417130763\n",
      "Optimization restart 2/3, f = 123.79940833189308\n",
      "Optimization restart 3/3, f = 123.79940924434285\n"
     ]
    }
   ],
   "source": [
    "# run BO loop for 10 steps \n",
    "stopping_condition = FixedIterationsStoppingCondition(i_max = 10) \n",
    "bayesopt_loop_SSK_base_split.run_loop(objective_base, stopping_condition)"
   ]
  },
  {
   "cell_type": "markdown",
   "metadata": {},
   "source": [
    "# 7) SSK applied to codon representations split into 2\n"
   ]
  },
  {
   "cell_type": "code",
   "execution_count": 32,
   "metadata": {},
   "outputs": [
    {
     "name": "stderr",
     "output_type": "stream",
     "text": [
      "reconstraining parameters GP_regression.sk.Gap_decay\n",
      "reconstraining parameters GP_regression.sk.Match_decay\n"
     ]
    }
   ],
   "source": [
    "# build BO loop\n",
    "# fit SSK model\n",
    "model = SSK_model(space_codon,X_init_codon,Y_init,num_splits=2,max_subsequence_length=5)\n",
    "# Load core elements for Bayesian optimization\n",
    "expected_improvement = ExpectedImprovement(model)\n",
    "# either use genetic algorithm or random search to optimize acqusition function\n",
    "optimizer =  ProteinCodonGeneticProgrammingOptimizer(space_codon,dynamic=True,population_size=100,tournament_prob=0.5,p_crossover= 0.8, p_mutation=0.1)\n",
    "# optimizer = RandomSearchAcquisitionOptimizer(space,10000)\n",
    "bayesopt_loop_SSK_codon_split= BayesianOptimizationLoop(model = model, \n",
    "                                         space = space_codon,\n",
    "                                         acquisition = expected_improvement,\n",
    "                                         acquisition_optimizer = optimizer)"
   ]
  },
  {
   "cell_type": "code",
   "execution_count": 33,
   "metadata": {},
   "outputs": [
    {
     "name": "stdout",
     "output_type": "stream",
     "text": [
      "Optimization restart 1/3, f = 7.490417981636623\n",
      "Optimization restart 2/3, f = 7.49041855181469\n",
      "Optimization restart 3/3, f = 7.490420541419021\n",
      "Optimization restart 1/3, f = 8.18393075576179\n",
      "Optimization restart 2/3, f = 8.183929828292914\n",
      "Optimization restart 3/3, f = 8.18393087879962\n",
      "Optimization restart 1/3, f = 10.627873094424151\n",
      "Optimization restart 2/3, f = 10.627869649212847\n",
      "Optimization restart 3/3, f = 10.627871825355708\n",
      "Optimization restart 1/3, f = 11.782008985230968\n",
      "Optimization restart 2/3, f = 11.782007834194186\n",
      "Optimization restart 3/3, f = 11.782007728210212\n",
      "Optimization restart 1/3, f = 12.172589799298072\n",
      "Optimization restart 2/3, f = 12.172590720368618\n",
      "Optimization restart 3/3, f = 12.17259012920316\n",
      "Optimization restart 1/3, f = 13.367208785107852\n",
      "Optimization restart 2/3, f = 13.367209177653377\n",
      "Optimization restart 3/3, f = 13.367209147640187\n",
      "Optimization restart 1/3, f = 14.903365206800629\n",
      "Optimization restart 2/3, f = 14.90336558683668\n",
      "Optimization restart 3/3, f = 14.903365248792745\n",
      "Optimization restart 1/3, f = 16.86534978769506\n",
      "Optimization restart 2/3, f = 16.86534996259343\n",
      "Optimization restart 3/3, f = 16.86535059752191\n",
      "Optimization restart 1/3, f = 18.66604435627111\n",
      "Optimization restart 2/3, f = 18.666044426856104\n",
      "Optimization restart 3/3, f = 18.666048304385896\n",
      "Optimization restart 1/3, f = 20.582637777566916\n",
      "Optimization restart 2/3, f = 20.56854749436825\n",
      "Optimization restart 3/3, f = 20.568551579366076\n",
      "Optimization restart 1/3, f = 21.83229292443088\n",
      "Optimization restart 2/3, f = 21.832294623965\n",
      "Optimization restart 3/3, f = 21.832297267984295\n"
     ]
    }
   ],
   "source": [
    "# run BO loop for 10 steps \n",
    "stopping_condition = FixedIterationsStoppingCondition(i_max = 10) \n",
    "bayesopt_loop_SSK_codon_split.run_loop(objective_codon, stopping_condition)"
   ]
  },
  {
   "cell_type": "markdown",
   "metadata": {},
   "source": [
    "# 8) Perform random search"
   ]
  },
  {
   "cell_type": "code",
   "execution_count": 34,
   "metadata": {},
   "outputs": [],
   "source": [
    "# also see performance of random search \n",
    "#(starting from the initialization used by the other approaches)\n",
    "Y_random=np.vstack([Y_init,objective_base(random_design_base.get_samples(10))])"
   ]
  },
  {
   "cell_type": "markdown",
   "metadata": {},
   "source": [
    "# plot results"
   ]
  },
  {
   "cell_type": "code",
   "execution_count": 36,
   "metadata": {
    "scrolled": false
   },
   "outputs": [
    {
     "data": {
      "text/plain": [
       "<matplotlib.legend.Legend at 0x7ff450f4e208>"
      ]
     },
     "execution_count": 36,
     "metadata": {},
     "output_type": "execute_result"
    },
    {
     "data": {
      "image/png": "[encoded data removed]",
      "text/plain": [
       "<Figure size 432x288 with 1 Axes>"
      ]
     },
     "metadata": {
      "needs_background": "light"
     },
     "output_type": "display_data"
    }
   ],
   "source": [
    "# recall that first 5 points are a random sample shared by all the methods\n",
    "# must run over multiple seeds to get an reliable idea of which algorithm is more efficient\n",
    "plt.plot(np.minimum.accumulate(bayesopt_loop_linear.loop_state.Y),label=\"Linear\")\n",
    "plt.plot(np.minimum.accumulate(bayesopt_loop_BOW.loop_state.Y),label=\"BOW bases\")\n",
    "plt.plot(np.minimum.accumulate(bayesopt_loop_BIO.loop_state.Y),label=\"Bio Features\")\n",
    "\n",
    "plt.plot(np.minimum.accumulate(bayesopt_loop_SSK_base.loop_state.Y),label=\"SSK bases\")\n",
    "plt.plot(np.minimum.accumulate(bayesopt_loop_SSK_codon.loop_state.Y),label=\"SSK codons\")\n",
    "plt.plot(np.minimum.accumulate(bayesopt_loop_SSK_base_split.loop_state.Y),label=\"Split SSK bases % 6\")\n",
    "plt.plot(np.minimum.accumulate(bayesopt_loop_SSK_codon_split.loop_state.Y),label=\"Split SSK codons % 2\")\n",
    "\n",
    "plt.plot(np.minimum.accumulate(Y_random),label=\"Random Search\")\n",
    "\n",
    "plt.ylabel('Current best')\n",
    "plt.xlabel('Iteration')\n",
    "plt.legend()"
   ]
  }
 ],
 "metadata": {
  "kernelspec": {
   "display_name": "stringbo",
   "language": "python",
   "name": "stringbo"
  },
  "language_info": {
   "codemirror_mode": {
    "name": "ipython",
    "version": 3
   },
   "file_extension": ".py",
   "mimetype": "text/x-python",
   "name": "python",
   "nbconvert_exporter": "python",
   "pygments_lexer": "ipython3",
   "version": "3.6.9"
  }
 },
 "nbformat": 4,
 "nbformat_minor": 4
}
